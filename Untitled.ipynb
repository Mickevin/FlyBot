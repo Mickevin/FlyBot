{
 "cells": [
  {
   "cell_type": "code",
   "execution_count": 1,
   "id": "6be41f38",
   "metadata": {},
   "outputs": [],
   "source": [
    "from booking_details import BookingDetails"
   ]
  },
  {
   "cell_type": "code",
   "execution_count": 1,
   "id": "cfed52db",
   "metadata": {},
   "outputs": [],
   "source": [
    "from http import HTTPStatus\n",
    "\n",
    "from aiohttp import web\n",
    "from aiohttp.web import Request, Response, json_response\n",
    "from botbuilder.core import (\n",
    "    BotFrameworkAdapterSettings,\n",
    "    ConversationState,\n",
    "    MemoryStorage,\n",
    "    UserState,\n",
    "    TelemetryLoggerMiddleware,\n",
    ")\n",
    "from botbuilder.core.integration import aiohttp_error_middleware\n",
    "from botbuilder.schema import Activity\n",
    "from botbuilder.applicationinsights import ApplicationInsightsTelemetryClient\n",
    "from botbuilder.integration.applicationinsights.aiohttp import (\n",
    "    AiohttpTelemetryProcessor,\n",
    "    bot_telemetry_middleware,\n",
    ")\n",
    "\n",
    "from config import DefaultConfig\n",
    "from dialogs import MainDialog, BookingDialog\n",
    "from bots import DialogAndWelcomeBot\n",
    "\n",
    "from adapter_with_error_handler import AdapterWithErrorHandler\n",
    "from flight_booking_recognizer import FlightBookingRecognizer\n",
    "\n",
    "CONFIG = DefaultConfig()\n",
    "\n",
    "# Create adapter.\n",
    "# See https://aka.ms/about-bot-adapter to learn more about how bots work.\n",
    "#CONFIG.APP_ID\n",
    "#CONFIG.APP_PASSWORD\n",
    "SETTINGS = BotFrameworkAdapterSettings(CONFIG.APP_ID,CONFIG.APP_PASSWORD)"
   ]
  },
  {
   "cell_type": "code",
   "execution_count": 8,
   "id": "184ff338",
   "metadata": {},
   "outputs": [],
   "source": [
    "from helpers.luis_helper import LuisHelper"
   ]
  },
  {
   "cell_type": "code",
   "execution_count": null,
   "id": "03569d9c",
   "metadata": {},
   "outputs": [],
   "source": [
    "LuisHelper.execute_luis_query()"
   ]
  },
  {
   "cell_type": "code",
   "execution_count": 9,
   "id": "1675a97a",
   "metadata": {},
   "outputs": [],
   "source": [
    "from flight_booking_recognizer import FlightBookingRecognizer"
   ]
  },
  {
   "cell_type": "code",
   "execution_count": 12,
   "id": "31f34ce2",
   "metadata": {},
   "outputs": [],
   "source": [
    " CONFIG = DefaultConfig()\n",
    "\n",
    "RECOGNIZER = FlightBookingRecognizer(CONFIG)"
   ]
  },
  {
   "cell_type": "code",
   "execution_count": null,
   "id": "8659856f",
   "metadata": {},
   "outputs": [],
   "source": [
    "RECOGNIZER.get_luis"
   ]
  },
  {
   "cell_type": "code",
   "execution_count": 18,
   "id": "bda5d971",
   "metadata": {},
   "outputs": [],
   "source": [
    "from botbuilder.schema import InputHints\n",
    "\n",
    "message_text = (\n",
    "                f\"Sorry but the following airports are not supported:\"\n",
    "            )\n",
    "message = MessageFactory.text(\n",
    "                message_text, message_text, InputHints.ignoring_input\n",
    "            )"
   ]
  },
  {
   "cell_type": "code",
   "execution_count": 16,
   "id": "8631bfa0",
   "metadata": {},
   "outputs": [],
   "source": [
    "from botbuilder.core import (\n",
    "    MessageFactory,\n",
    ")"
   ]
  },
  {
   "cell_type": "code",
   "execution_count": 22,
   "id": "afeafdae",
   "metadata": {},
   "outputs": [],
   "source": [
    "from botbuilder.schema import Activity"
   ]
  },
  {
   "cell_type": "code",
   "execution_count": 24,
   "id": "5ae7dfcc",
   "metadata": {},
   "outputs": [
    {
     "ename": "TypeError",
     "evalue": "__init__() takes 1 positional argument but 2 were given",
     "output_type": "error",
     "traceback": [
      "\u001b[0;31m---------------------------------------------------------------------------\u001b[0m",
      "\u001b[0;31mTypeError\u001b[0m                                 Traceback (most recent call last)",
      "\u001b[1;32m/Users/kevinduranty/flybot/Untitled.ipynb Cell 11'\u001b[0m in \u001b[0;36m<cell line: 1>\u001b[0;34m()\u001b[0m\n\u001b[0;32m----> <a href='vscode-notebook-cell:/Users/kevinduranty/flybot/Untitled.ipynb#ch0000043?line=0'>1</a>\u001b[0m Activity(\u001b[39m'\u001b[39;49m\u001b[39mTrue\u001b[39;49m\u001b[39m'\u001b[39;49m)\n",
      "\u001b[0;31mTypeError\u001b[0m: __init__() takes 1 positional argument but 2 were given"
     ]
    }
   ],
   "source": [
    "Activity()"
   ]
  },
  {
   "cell_type": "code",
   "execution_count": 42,
   "id": "8c274e13",
   "metadata": {},
   "outputs": [
    {
     "ename": "NameError",
     "evalue": "name 'bot' is not defined",
     "output_type": "error",
     "traceback": [
      "\u001b[0;31m---------------------------------------------------------------------------\u001b[0m",
      "\u001b[0;31mNameError\u001b[0m                                 Traceback (most recent call last)",
      "\u001b[1;32m/Users/kevinduranty/flybot/Untitled.ipynb Cell 12'\u001b[0m in \u001b[0;36m<cell line: 3>\u001b[0;34m()\u001b[0m\n\u001b[1;32m      <a href='vscode-notebook-cell:/Users/kevinduranty/flybot/Untitled.ipynb#ch0000044?line=0'>1</a>\u001b[0m \u001b[39mfrom\u001b[39;00m \u001b[39mbotbuilder\u001b[39;00m\u001b[39m.\u001b[39;00m\u001b[39mcore\u001b[39;00m \u001b[39mimport\u001b[39;00m ActivityHandler, MessageFactory, TurnContext\n\u001b[1;32m      <a href='vscode-notebook-cell:/Users/kevinduranty/flybot/Untitled.ipynb#ch0000044?line=2'>3</a>\u001b[0m TurnContext\u001b[39m.\u001b[39msend_activity(\n\u001b[0;32m----> <a href='vscode-notebook-cell:/Users/kevinduranty/flybot/Untitled.ipynb#ch0000044?line=3'>4</a>\u001b[0m             MessageFactory\u001b[39m.\u001b[39mtext(\u001b[39mf\u001b[39m\u001b[39m\"\u001b[39m\u001b[39m{\u001b[39;00mbot\u001b[39m.\u001b[39mprediction(turn_context\u001b[39m.\u001b[39mactivity\u001b[39m.\u001b[39mtext)\u001b[39m}\u001b[39;00m\u001b[39m.\u001b[39m\u001b[39m\"\u001b[39m)\n\u001b[1;32m      <a href='vscode-notebook-cell:/Users/kevinduranty/flybot/Untitled.ipynb#ch0000044?line=4'>5</a>\u001b[0m         )\n",
      "\u001b[0;31mNameError\u001b[0m: name 'bot' is not defined"
     ]
    }
   ],
   "source": [
    "from botbuilder.core import ActivityHandler, MessageFactory, TurnContext\n",
    "\n",
    "TurnContext.send_activity(\n",
    "            turn_context.send_activity(\"Hello and welcome !\")\n",
    "        )\n",
    "\n",
    "        MessageFactory.text(f\"{bot.prediction(turn_context.activity.text)}.\")"
   ]
  },
  {
   "cell_type": "code",
   "execution_count": 35,
   "id": "61602c9d",
   "metadata": {},
   "outputs": [],
   "source": [
    "from botbuilder.dialogs import WaterfallStepContext"
   ]
  },
  {
   "cell_type": "code",
   "execution_count": 39,
   "id": "90d5dcf9",
   "metadata": {},
   "outputs": [
    {
     "ename": "TypeError",
     "evalue": "__init__() missing 6 required positional arguments: 'parent', 'dc', 'options', 'values', 'index', and 'reason'",
     "output_type": "error",
     "traceback": [
      "\u001b[0;31m---------------------------------------------------------------------------\u001b[0m",
      "\u001b[0;31mTypeError\u001b[0m                                 Traceback (most recent call last)",
      "\u001b[1;32m/Users/kevinduranty/flybot/Untitled.ipynb Cell 14'\u001b[0m in \u001b[0;36m<cell line: 1>\u001b[0;34m()\u001b[0m\n\u001b[0;32m----> <a href='vscode-notebook-cell:/Users/kevinduranty/flybot/Untitled.ipynb#ch0000046?line=0'>1</a>\u001b[0m WaterfallStepContext()\n",
      "\u001b[0;31mTypeError\u001b[0m: __init__() missing 6 required positional arguments: 'parent', 'dc', 'options', 'values', 'index', and 'reason'"
     ]
    }
   ],
   "source": [
    "WaterfallStepContext()"
   ]
  },
  {
   "cell_type": "code",
   "execution_count": 32,
   "id": "e4c04c37",
   "metadata": {},
   "outputs": [
    {
     "ename": "TypeError",
     "evalue": "TurnContext must be instantiated with a request parameter of type Activity.",
     "output_type": "error",
     "traceback": [
      "\u001b[0;31m---------------------------------------------------------------------------\u001b[0m",
      "\u001b[0;31mTypeError\u001b[0m                                 Traceback (most recent call last)",
      "\u001b[1;32m/Users/kevinduranty/flybot/Untitled.ipynb Cell 15'\u001b[0m in \u001b[0;36m<cell line: 3>\u001b[0;34m()\u001b[0m\n\u001b[1;32m      <a href='vscode-notebook-cell:/Users/kevinduranty/flybot/Untitled.ipynb#ch0000037?line=0'>1</a>\u001b[0m \u001b[39mfrom\u001b[39;00m \u001b[39mbotbuilder\u001b[39;00m\u001b[39m.\u001b[39;00m\u001b[39mcore\u001b[39;00m \u001b[39mimport\u001b[39;00m IntentScore, TopIntent, TurnContext\n\u001b[0;32m----> <a href='vscode-notebook-cell:/Users/kevinduranty/flybot/Untitled.ipynb#ch0000037?line=2'>3</a>\u001b[0m TurnContext(Activity)\n",
      "File \u001b[0;32m/Library/Frameworks/Python.framework/Versions/3.8/lib/python3.8/site-packages/botbuilder/core/turn_context.py:52\u001b[0m, in \u001b[0;36mTurnContext.__init__\u001b[0;34m(self, adapter_or_context, request)\u001b[0m\n\u001b[1;32m     <a href='file:///Library/Frameworks/Python.framework/Versions/3.8/lib/python3.8/site-packages/botbuilder/core/turn_context.py?line=49'>50</a>\u001b[0m     \u001b[39mraise\u001b[39;00m \u001b[39mTypeError\u001b[39;00m(\u001b[39m\"\u001b[39m\u001b[39mTurnContext must be instantiated with an adapter.\u001b[39m\u001b[39m\"\u001b[39m)\n\u001b[1;32m     <a href='file:///Library/Frameworks/Python.framework/Versions/3.8/lib/python3.8/site-packages/botbuilder/core/turn_context.py?line=50'>51</a>\u001b[0m \u001b[39mif\u001b[39;00m \u001b[39mself\u001b[39m\u001b[39m.\u001b[39mactivity \u001b[39mis\u001b[39;00m \u001b[39mNone\u001b[39;00m:\n\u001b[0;32m---> <a href='file:///Library/Frameworks/Python.framework/Versions/3.8/lib/python3.8/site-packages/botbuilder/core/turn_context.py?line=51'>52</a>\u001b[0m     \u001b[39mraise\u001b[39;00m \u001b[39mTypeError\u001b[39;00m(\n\u001b[1;32m     <a href='file:///Library/Frameworks/Python.framework/Versions/3.8/lib/python3.8/site-packages/botbuilder/core/turn_context.py?line=52'>53</a>\u001b[0m         \u001b[39m\"\u001b[39m\u001b[39mTurnContext must be instantiated with a request parameter of type Activity.\u001b[39m\u001b[39m\"\u001b[39m\n\u001b[1;32m     <a href='file:///Library/Frameworks/Python.framework/Versions/3.8/lib/python3.8/site-packages/botbuilder/core/turn_context.py?line=53'>54</a>\u001b[0m     )\n\u001b[1;32m     <a href='file:///Library/Frameworks/Python.framework/Versions/3.8/lib/python3.8/site-packages/botbuilder/core/turn_context.py?line=55'>56</a>\u001b[0m \u001b[39mself\u001b[39m\u001b[39m.\u001b[39m_turn_state \u001b[39m=\u001b[39m {}\n\u001b[1;32m     <a href='file:///Library/Frameworks/Python.framework/Versions/3.8/lib/python3.8/site-packages/botbuilder/core/turn_context.py?line=57'>58</a>\u001b[0m \u001b[39m# A list of activities to send when `context.Activity.DeliveryMode == 'expectReplies'`\u001b[39;00m\n",
      "\u001b[0;31mTypeError\u001b[0m: TurnContext must be instantiated with a request parameter of type Activity."
     ]
    }
   ],
   "source": [
    "from botbuilder.core import IntentScore, TopIntent, TurnContext\n",
    "\n",
    "TurnContext(Activity)"
   ]
  },
  {
   "cell_type": "code",
   "execution_count": null,
   "id": "b38ef3b5",
   "metadata": {},
   "outputs": [],
   "source": []
  },
  {
   "cell_type": "code",
   "execution_count": 33,
   "id": "b81bc4cc",
   "metadata": {},
   "outputs": [
    {
     "data": {
      "text/plain": [
       "botbuilder.schema._models_py3.Activity"
      ]
     },
     "execution_count": 33,
     "metadata": {},
     "output_type": "execute_result"
    }
   ],
   "source": [
    "Activity"
   ]
  },
  {
   "cell_type": "code",
   "execution_count": 3,
   "id": "f8ee1c15",
   "metadata": {},
   "outputs": [],
   "source": [
    "b = BookingDetails()"
   ]
  },
  {
   "cell_type": "code",
   "execution_count": null,
   "id": "0680dcef",
   "metadata": {},
   "outputs": [],
   "source": [
    "- name: Test\n",
    "        run: python -m unittest discover tests"
   ]
  },
  {
   "cell_type": "code",
   "execution_count": 5,
   "id": "b684e468",
   "metadata": {},
   "outputs": [
    {
     "data": {
      "text/plain": [
       "7"
      ]
     },
     "execution_count": 5,
     "metadata": {},
     "output_type": "execute_result"
    }
   ],
   "source": [
    "b.budget"
   ]
  },
  {
   "cell_type": "code",
   "execution_count": 17,
   "id": "b152d3bf",
   "metadata": {},
   "outputs": [],
   "source": [
    "from enum import Enum\n",
    "\n",
    "class Intent(Enum):\n",
    "    BOOK_FLIGHT = \"FlyMe.Booking\"\n",
    "    CANCEL = \"Cancel\"\n",
    "    GET_WEATHER = \"GetWeather\"\n",
    "    NONE_INTENT = \"NoneIntent\""
   ]
  },
  {
   "cell_type": "code",
   "execution_count": 18,
   "id": "dde480ab",
   "metadata": {},
   "outputs": [
    {
     "data": {
      "text/plain": [
       "'FlyMe.Booking'"
      ]
     },
     "execution_count": 18,
     "metadata": {},
     "output_type": "execute_result"
    }
   ],
   "source": [
    "Intent.BOOK_FLIGHT.value"
   ]
  },
  {
   "cell_type": "code",
   "execution_count": 19,
   "id": "2d95d295",
   "metadata": {},
   "outputs": [],
   "source": [
    "from Luis_bot import My_bot\n",
    "\n",
    "t = \"\"\"I'd like to book a trip to Atlantis from \n",
    "Caprica on Saturday, August 13, 2016 for 8 adults. I have a tight budget of 1700.\"\"\"\n",
    "\n",
    "\n",
    "intent, entite = My_bot.prediction(My_bot(), t)"
   ]
  },
  {
   "cell_type": "code",
   "execution_count": 20,
   "id": "20277403",
   "metadata": {},
   "outputs": [
    {
     "data": {
      "text/plain": [
       "'FlyMe.Booking'"
      ]
     },
     "execution_count": 20,
     "metadata": {},
     "output_type": "execute_result"
    }
   ],
   "source": [
    "list(intent)[0]"
   ]
  },
  {
   "cell_type": "code",
   "execution_count": 48,
   "id": "9df6dc46",
   "metadata": {},
   "outputs": [],
   "source": [
    "def predict_to_book_details(luis_recognizer : My_bot, text: str):\n",
    "    result = None\n",
    "    intent = None\n",
    "\n",
    "    \n",
    "    intent, entite = luis_recognizer.prediction(text)\n",
    "    if Intent.BOOK_FLIGHT.value == list(intent)[0]:\n",
    "        \n",
    "        result = BookingDetails()\n",
    "        for key in entite.keys():\n",
    "            if key == 'or_city':\n",
    "                result.origin = entite[key]\n",
    "            elif key == 'dst_city':\n",
    "                result.destination =entite[key]\n",
    "            elif key == 'str_date':\n",
    "                result.start_date =entite[key]\n",
    "            elif key == 'end_date':\n",
    "                result.end_date = entite[key]\n",
    "            elif key == 'budget':\n",
    "                result.budget = entite[key]\n",
    "    return intent, result\n",
    "\n"
   ]
  },
  {
   "cell_type": "code",
   "execution_count": 49,
   "id": "ffae673f",
   "metadata": {},
   "outputs": [],
   "source": [
    "intent, result = predict_to_book_details(My_bot(),t)"
   ]
  },
  {
   "cell_type": "code",
   "execution_count": 50,
   "id": "352bb711",
   "metadata": {},
   "outputs": [
    {
     "data": {
      "text/plain": [
       "'1700.'"
      ]
     },
     "execution_count": 50,
     "metadata": {},
     "output_type": "execute_result"
    }
   ],
   "source": [
    "result.budget"
   ]
  },
  {
   "cell_type": "code",
   "execution_count": 16,
   "id": "b6d11119",
   "metadata": {},
   "outputs": [
    {
     "data": {
      "text/plain": [
       "{'or_city': False,\n",
       " 'dst_city': False,\n",
       " 'str_date': False,\n",
       " 'end_date': False,\n",
       " 'budget': False}"
      ]
     },
     "execution_count": 16,
     "metadata": {},
     "output_type": "execute_result"
    }
   ],
   "source": [
    "My_bot().data"
   ]
  },
  {
   "cell_type": "code",
   "execution_count": 1,
   "id": "90c4aab8",
   "metadata": {},
   "outputs": [
    {
     "ename": "SyntaxError",
     "evalue": "unexpected EOF while parsing (2106377748.py, line 28)",
     "output_type": "error",
     "traceback": [
      "\u001b[0;36m  Input \u001b[0;32mIn [1]\u001b[0;36m\u001b[0m\n\u001b[0;31m    \u001b[0m\n\u001b[0m    ^\u001b[0m\n\u001b[0;31mSyntaxError\u001b[0m\u001b[0;31m:\u001b[0m unexpected EOF while parsing\n"
     ]
    }
   ],
   "source": [
    "class BookingDetails:\n",
    "    def __init__(\n",
    "        self,\n",
    "        destination: str = None,\n",
    "        origin: str = None,\n",
    "        travel_date: str = None,\n",
    "        unsupported_airports=None,\n",
    "        start_date = None,\n",
    "        end_date = None,\n",
    "        budget = None\n",
    "    ):\n",
    "        if unsupported_airports is None:\n",
    "            unsupported_airports = []\n",
    "        self.destination = destination\n",
    "        self.origin = origin\n",
    "        self.travel_date = travel_date\n",
    "        self.unsupported_airports = unsupported_airports\n",
    "        self.start_date = start_date\n",
    "        self.end_date = end_date\n",
    "        self.budget = budget\n",
    "        self.entities = {'or_city': self.origin,\n",
    "                    'dst_city': self.destination,\n",
    "                    'str_date': self.start_date,\n",
    "                    'end_date': self.end_date,\n",
    "                    'budget': self.budget}\n",
    "        \n",
    "    def set_(var):\n",
    "        "
   ]
  },
  {
   "cell_type": "code",
   "execution_count": null,
   "id": "181e0ba8",
   "metadata": {},
   "outputs": [],
   "source": []
  },
  {
   "cell_type": "code",
   "execution_count": null,
   "id": "8c620c80",
   "metadata": {},
   "outputs": [],
   "source": []
  },
  {
   "cell_type": "code",
   "execution_count": null,
   "id": "950d332f",
   "metadata": {},
   "outputs": [],
   "source": []
  },
  {
   "cell_type": "code",
   "execution_count": null,
   "id": "271ab258",
   "metadata": {},
   "outputs": [],
   "source": []
  },
  {
   "cell_type": "code",
   "execution_count": null,
   "id": "00cc2f66",
   "metadata": {},
   "outputs": [],
   "source": []
  },
  {
   "cell_type": "code",
   "execution_count": null,
   "id": "b8a76c50",
   "metadata": {},
   "outputs": [],
   "source": []
  },
  {
   "cell_type": "code",
   "execution_count": null,
   "id": "de09c1f5",
   "metadata": {},
   "outputs": [],
   "source": []
  },
  {
   "cell_type": "code",
   "execution_count": null,
   "id": "9bd4cd63",
   "metadata": {},
   "outputs": [],
   "source": []
  },
  {
   "cell_type": "code",
   "execution_count": 53,
   "id": "a60dfcc8",
   "metadata": {},
   "outputs": [
    {
     "data": {
      "text/plain": [
       "['atlantis']"
      ]
     },
     "execution_count": 53,
     "metadata": {},
     "output_type": "execute_result"
    }
   ],
   "source": [
    "a = {'$instance': {'budget': [{'startIndex': 117,\n",
    "    'endIndex': 122,\n",
    "    'text': '1700 .',\n",
    "    'type': 'budget',\n",
    "    'score': 0.9381831}],\n",
    "  'dst_city': [{'startIndex': 27,\n",
    "    'endIndex': 35,\n",
    "    'text': 'atlantis',\n",
    "    'type': 'dst_city',\n",
    "    'score': 0.99730843}],\n",
    "  'or_city': [{'startIndex': 41,\n",
    "    'endIndex': 48,\n",
    "    'text': 'caprica',\n",
    "    'type': 'or_city',\n",
    "    'score': 0.9928083}]},\n",
    " 'budget': ['1700 .'],\n",
    " 'dst_city': ['atlantis'],\n",
    " 'or_city': ['caprica']}\n",
    "\n",
    "a.get(\"dst_city\", {})"
   ]
  },
  {
   "cell_type": "code",
   "execution_count": 56,
   "id": "cd46444c",
   "metadata": {},
   "outputs": [
    {
     "data": {
      "text/plain": [
       "'$instance'"
      ]
     },
     "execution_count": 56,
     "metadata": {},
     "output_type": "execute_result"
    }
   ],
   "source": [
    "a.get('t', \"$instance\")"
   ]
  },
  {
   "cell_type": "code",
   "execution_count": null,
   "id": "be76fdb7",
   "metadata": {},
   "outputs": [],
   "source": []
  },
  {
   "cell_type": "code",
   "execution_count": 43,
   "id": "b4d63245",
   "metadata": {},
   "outputs": [],
   "source": [
    "to_entities = a.get(\"$instance\", {}).get(\n",
    "                    'or_city', \n",
    "                )"
   ]
  },
  {
   "cell_type": "code",
   "execution_count": 62,
   "id": "e64a2d65",
   "metadata": {},
   "outputs": [
    {
     "data": {
      "text/plain": [
       "{'startIndex': 41,\n",
       " 'endIndex': 48,\n",
       " 'text': 'caprica',\n",
       " 'type': 'or_city',\n",
       " 'score': 0.9928083}"
      ]
     },
     "execution_count": 62,
     "metadata": {},
     "output_type": "execute_result"
    }
   ],
   "source": [
    "to_entities[0]"
   ]
  },
  {
   "cell_type": "code",
   "execution_count": 50,
   "id": "39777d84",
   "metadata": {},
   "outputs": [
    {
     "ename": "TypeError",
     "evalue": "string indices must be integers",
     "output_type": "error",
     "traceback": [
      "\u001b[0;31m---------------------------------------------------------------------------\u001b[0m",
      "\u001b[0;31mTypeError\u001b[0m                                 Traceback (most recent call last)",
      "Input \u001b[0;32mIn [50]\u001b[0m, in \u001b[0;36m<cell line: 1>\u001b[0;34m()\u001b[0m\n\u001b[1;32m      1\u001b[0m \u001b[38;5;28;01mif\u001b[39;00m \u001b[38;5;28mlen\u001b[39m(to_entities) \u001b[38;5;241m>\u001b[39m \u001b[38;5;241m0\u001b[39m:\n\u001b[0;32m----> 2\u001b[0m                 \u001b[38;5;28;01mif\u001b[39;00m \u001b[43ma\u001b[49m\u001b[38;5;241;43m.\u001b[39;49m\u001b[43mget\u001b[49m\u001b[43m(\u001b[49m\u001b[38;5;124;43m\"\u001b[39;49m\u001b[38;5;124;43mor_city\u001b[39;49m\u001b[38;5;124;43m\"\u001b[39;49m\u001b[43m,\u001b[49m\u001b[43m \u001b[49m\u001b[43m[\u001b[49m\u001b[43m{\u001b[49m\u001b[38;5;124;43m\"\u001b[39;49m\u001b[38;5;124;43m$instance\u001b[39;49m\u001b[38;5;124;43m\"\u001b[39;49m\u001b[43m:\u001b[49m\u001b[43m \u001b[49m\u001b[43m{\u001b[49m\u001b[43m}\u001b[49m\u001b[43m}\u001b[49m\u001b[43m]\u001b[49m\u001b[43m)\u001b[49m\u001b[43m[\u001b[49m\u001b[38;5;241;43m0\u001b[39;49m\u001b[43m]\u001b[49m\u001b[43m[\u001b[49m\n\u001b[1;32m      3\u001b[0m \u001b[43m                    \u001b[49m\u001b[38;5;124;43m\"\u001b[39;49m\u001b[38;5;124;43m$instance\u001b[39;49m\u001b[38;5;124;43m\"\u001b[39;49m\n\u001b[1;32m      4\u001b[0m \u001b[43m                \u001b[49m\u001b[43m]\u001b[49m:\n\u001b[1;32m      5\u001b[0m                     \u001b[38;5;28mprint\u001b[39m(\u001b[38;5;28;01mTrue\u001b[39;00m)\n",
      "\u001b[0;31mTypeError\u001b[0m: string indices must be integers"
     ]
    }
   ],
   "source": [
    "if len(to_entities) > 0:\n",
    "                if a.get(\"or_city\", [{\"$instance\": {}}])[0][\n",
    "                    \"$instance\"\n",
    "                ]:\n",
    "                    print(True)"
   ]
  },
  {
   "cell_type": "code",
   "execution_count": 61,
   "id": "ea3285c9",
   "metadata": {},
   "outputs": [
    {
     "name": "stdout",
     "output_type": "stream",
     "text": [
      "True\n"
     ]
    }
   ],
   "source": [
    "if a.get(\"or_city\")[0]:\n",
    "    print(True)"
   ]
  },
  {
   "cell_type": "code",
   "execution_count": 67,
   "id": "66f81545",
   "metadata": {},
   "outputs": [],
   "source": [
    "def test(a:bool):\n",
    "    print(a)"
   ]
  },
  {
   "cell_type": "code",
   "execution_count": 69,
   "id": "7d1601d7",
   "metadata": {},
   "outputs": [
    {
     "name": "stdout",
     "output_type": "stream",
     "text": [
      "1\n"
     ]
    }
   ],
   "source": [
    "test(1)"
   ]
  },
  {
   "cell_type": "code",
   "execution_count": null,
   "id": "542f0386",
   "metadata": {},
   "outputs": [],
   "source": []
  },
  {
   "cell_type": "code",
   "execution_count": null,
   "id": "b7aedf0b",
   "metadata": {},
   "outputs": [],
   "source": []
  },
  {
   "cell_type": "code",
   "execution_count": null,
   "id": "eccc90b4",
   "metadata": {},
   "outputs": [],
   "source": []
  },
  {
   "cell_type": "code",
   "execution_count": null,
   "id": "83ee1d8e",
   "metadata": {},
   "outputs": [],
   "source": []
  },
  {
   "cell_type": "code",
   "execution_count": null,
   "id": "e81911e1",
   "metadata": {},
   "outputs": [],
   "source": []
  },
  {
   "cell_type": "code",
   "execution_count": null,
   "id": "29fc2d53",
   "metadata": {},
   "outputs": [],
   "source": []
  },
  {
   "cell_type": "code",
   "execution_count": null,
   "id": "715bb160",
   "metadata": {},
   "outputs": [],
   "source": []
  },
  {
   "cell_type": "code",
   "execution_count": null,
   "id": "b36bf745",
   "metadata": {},
   "outputs": [],
   "source": [
    "a"
   ]
  },
  {
   "cell_type": "code",
   "execution_count": 150,
   "id": "ecbbf7dc",
   "metadata": {},
   "outputs": [
    {
     "data": {
      "text/plain": [
       "'123007a9fbfb4ec2bd2e4cd7c88c37fa'"
      ]
     },
     "execution_count": 150,
     "metadata": {},
     "output_type": "execute_result"
    }
   ],
   "source": [
    "CONFIG.LUIS_API_KEY"
   ]
  },
  {
   "cell_type": "code",
   "execution_count": 224,
   "id": "7173cc82",
   "metadata": {},
   "outputs": [],
   "source": [
    "from botbuilder.ai.luis import LuisApplication, LuisRecognizer, LuisPredictionOptions\n"
   ]
  },
  {
   "cell_type": "code",
   "execution_count": 225,
   "id": "3df32653",
   "metadata": {},
   "outputs": [],
   "source": [
    "luis_application = LuisApplication(\n",
    "                CONFIG.LUIS_APP_ID,\n",
    "                CONFIG.LUIS_API_KEY,\n",
    "                \"https://\" + CONFIG.LUIS_API_HOST_NAME,\n",
    "            )"
   ]
  },
  {
   "cell_type": "code",
   "execution_count": 227,
   "id": "163c90a6",
   "metadata": {},
   "outputs": [
    {
     "ename": "TypeError",
     "evalue": "from_application_endpoint() missing 1 required positional argument: 'application_endpoint'",
     "output_type": "error",
     "traceback": [
      "\u001b[0;31m---------------------------------------------------------------------------\u001b[0m",
      "\u001b[0;31mTypeError\u001b[0m                                 Traceback (most recent call last)",
      "Input \u001b[0;32mIn [227]\u001b[0m, in \u001b[0;36m<cell line: 1>\u001b[0;34m()\u001b[0m\n\u001b[0;32m----> 1\u001b[0m \u001b[43mluis_application\u001b[49m\u001b[38;5;241;43m.\u001b[39;49m\u001b[43mfrom_application_endpoint\u001b[49m\u001b[43m(\u001b[49m\u001b[43m)\u001b[49m\n",
      "\u001b[0;31mTypeError\u001b[0m: from_application_endpoint() missing 1 required positional argument: 'application_endpoint'"
     ]
    }
   ],
   "source": [
    "luis_application."
   ]
  },
  {
   "cell_type": "code",
   "execution_count": 230,
   "id": "5b1ee8b4",
   "metadata": {},
   "outputs": [],
   "source": [
    "options = LuisPredictionOptions()"
   ]
  },
  {
   "cell_type": "code",
   "execution_count": 232,
   "id": "a45697f6",
   "metadata": {},
   "outputs": [],
   "source": [
    "L = LuisRecognizer(\n",
    "                luis_application, prediction_options=options\n",
    "            )"
   ]
  },
  {
   "cell_type": "code",
   "execution_count": 235,
   "id": "cea859fc",
   "metadata": {},
   "outputs": [
    {
     "ename": "AttributeError",
     "evalue": "'property' object has no attribute 'type'",
     "output_type": "error",
     "traceback": [
      "\u001b[0;31m---------------------------------------------------------------------------\u001b[0m",
      "\u001b[0;31mAttributeError\u001b[0m                            Traceback (most recent call last)",
      "Input \u001b[0;32mIn [235]\u001b[0m, in \u001b[0;36m<cell line: 1>\u001b[0;34m()\u001b[0m\n\u001b[0;32m----> 1\u001b[0m \u001b[38;5;28;01mawait\u001b[39;00m L\u001b[38;5;241m.\u001b[39mrecognize(TurnContext)\n",
      "File \u001b[0;32m/Library/Frameworks/Python.framework/Versions/3.8/lib/python3.8/site-packages/botbuilder/ai/luis/luis_recognizer.py:125\u001b[0m, in \u001b[0;36mLuisRecognizer.recognize\u001b[0;34m(self, turn_context, telemetry_properties, telemetry_metrics, luis_prediction_options)\u001b[0m\n\u001b[1;32m    104\u001b[0m \u001b[38;5;28;01masync\u001b[39;00m \u001b[38;5;28;01mdef\u001b[39;00m \u001b[38;5;21mrecognize\u001b[39m(  \u001b[38;5;66;03m# pylint: disable=arguments-differ\u001b[39;00m\n\u001b[1;32m    105\u001b[0m     \u001b[38;5;28mself\u001b[39m,\n\u001b[1;32m    106\u001b[0m     turn_context: TurnContext,\n\u001b[0;32m   (...)\u001b[0m\n\u001b[1;32m    109\u001b[0m     luis_prediction_options: LuisPredictionOptions \u001b[38;5;241m=\u001b[39m \u001b[38;5;28;01mNone\u001b[39;00m,\n\u001b[1;32m    110\u001b[0m ) \u001b[38;5;241m-\u001b[39m\u001b[38;5;241m>\u001b[39m RecognizerResult:\n\u001b[1;32m    111\u001b[0m     \u001b[38;5;124;03m\"\"\"Return results of the analysis (suggested actions and intents).\u001b[39;00m\n\u001b[1;32m    112\u001b[0m \n\u001b[1;32m    113\u001b[0m \u001b[38;5;124;03m    :param turn_context: Context object containing information for a single conversation turn with a user.\u001b[39;00m\n\u001b[0;32m   (...)\u001b[0m\n\u001b[1;32m    122\u001b[0m \u001b[38;5;124;03m    :rtype: :class:`botbuilder.core.RecognizerResult`\u001b[39;00m\n\u001b[1;32m    123\u001b[0m \u001b[38;5;124;03m    \"\"\"\u001b[39;00m\n\u001b[0;32m--> 125\u001b[0m     \u001b[38;5;28;01mreturn\u001b[39;00m \u001b[38;5;28;01mawait\u001b[39;00m \u001b[38;5;28mself\u001b[39m\u001b[38;5;241m.\u001b[39m_recognize_internal(\n\u001b[1;32m    126\u001b[0m         turn_context,\n\u001b[1;32m    127\u001b[0m         telemetry_properties,\n\u001b[1;32m    128\u001b[0m         telemetry_metrics,\n\u001b[1;32m    129\u001b[0m         luis_prediction_options,\n\u001b[1;32m    130\u001b[0m     )\n",
      "File \u001b[0;32m/Library/Frameworks/Python.framework/Versions/3.8/lib/python3.8/site-packages/botbuilder/ai/luis/luis_recognizer.py:262\u001b[0m, in \u001b[0;36mLuisRecognizer._recognize_internal\u001b[0;34m(self, turn_context, telemetry_properties, telemetry_metrics, luis_prediction_options)\u001b[0m\n\u001b[1;32m    250\u001b[0m \u001b[38;5;28;01masync\u001b[39;00m \u001b[38;5;28;01mdef\u001b[39;00m \u001b[38;5;21m_recognize_internal\u001b[39m(\n\u001b[1;32m    251\u001b[0m     \u001b[38;5;28mself\u001b[39m,\n\u001b[1;32m    252\u001b[0m     turn_context: TurnContext,\n\u001b[0;32m   (...)\u001b[0m\n\u001b[1;32m    257\u001b[0m     ] \u001b[38;5;241m=\u001b[39m \u001b[38;5;28;01mNone\u001b[39;00m,\n\u001b[1;32m    258\u001b[0m ) \u001b[38;5;241m-\u001b[39m\u001b[38;5;241m>\u001b[39m RecognizerResult:\n\u001b[1;32m    260\u001b[0m     BotAssert\u001b[38;5;241m.\u001b[39mcontext_not_none(turn_context)\n\u001b[0;32m--> 262\u001b[0m     \u001b[38;5;28;01mif\u001b[39;00m \u001b[43mturn_context\u001b[49m\u001b[38;5;241;43m.\u001b[39;49m\u001b[43mactivity\u001b[49m\u001b[38;5;241;43m.\u001b[39;49m\u001b[43mtype\u001b[49m \u001b[38;5;241m!=\u001b[39m ActivityTypes\u001b[38;5;241m.\u001b[39mmessage:\n\u001b[1;32m    263\u001b[0m         \u001b[38;5;28;01mreturn\u001b[39;00m \u001b[38;5;28;01mNone\u001b[39;00m\n\u001b[1;32m    265\u001b[0m     utterance: \u001b[38;5;28mstr\u001b[39m \u001b[38;5;241m=\u001b[39m turn_context\u001b[38;5;241m.\u001b[39mactivity\u001b[38;5;241m.\u001b[39mtext \u001b[38;5;28;01mif\u001b[39;00m turn_context\u001b[38;5;241m.\u001b[39mactivity \u001b[38;5;129;01mis\u001b[39;00m \u001b[38;5;129;01mnot\u001b[39;00m \u001b[38;5;28;01mNone\u001b[39;00m \u001b[38;5;28;01melse\u001b[39;00m \u001b[38;5;28;01mNone\u001b[39;00m\n",
      "\u001b[0;31mAttributeError\u001b[0m: 'property' object has no attribute 'type'"
     ]
    }
   ],
   "source": [
    "await L.recognize(TurnContext)"
   ]
  },
  {
   "cell_type": "code",
   "execution_count": null,
   "id": "2f1e97dd",
   "metadata": {},
   "outputs": [],
   "source": []
  },
  {
   "cell_type": "code",
   "execution_count": null,
   "id": "c67f2a22",
   "metadata": {},
   "outputs": [],
   "source": []
  },
  {
   "cell_type": "code",
   "execution_count": 238,
   "id": "6792abe1",
   "metadata": {},
   "outputs": [],
   "source": [
    "from botbuilder.core import (\n",
    "    BotFrameworkAdapterSettings,\n",
    "    ConversationState,\n",
    "    MemoryStorage,\n",
    "    UserState,\n",
    "    TelemetryLoggerMiddleware,)"
   ]
  },
  {
   "cell_type": "code",
   "execution_count": 236,
   "id": "e41d13ba",
   "metadata": {},
   "outputs": [],
   "source": [
    "from adapter_with_error_handler import AdapterWithErrorHandler"
   ]
  },
  {
   "cell_type": "code",
   "execution_count": 242,
   "id": "467e8ee6",
   "metadata": {},
   "outputs": [],
   "source": [
    "SETTINGS = BotFrameworkAdapterSettings(CONFIG.APP_ID,CONFIG.APP_PASSWORD)\n",
    "\n",
    "MEMORY = MemoryStorage()\n",
    "USER_STATE = UserState(MEMORY)\n",
    "CONVERSATION_STATE = ConversationState(MEMORY)\n",
    "\n",
    "ADAPTER = AdapterWithErrorHandler(SETTINGS, CONVERSATION_STATE)\n"
   ]
  },
  {
   "cell_type": "code",
   "execution_count": 243,
   "id": "9fad74bd",
   "metadata": {},
   "outputs": [
    {
     "data": {
      "text/plain": [
       "<adapter_with_error_handler.AdapterWithErrorHandler at 0x7fa6212440a0>"
      ]
     },
     "execution_count": 243,
     "metadata": {},
     "output_type": "execute_result"
    }
   ],
   "source": [
    "ADAPTER.send_activities"
   ]
  },
  {
   "cell_type": "code",
   "execution_count": null,
   "id": "1b9cbc96",
   "metadata": {},
   "outputs": [],
   "source": []
  },
  {
   "cell_type": "code",
   "execution_count": null,
   "id": "feb81752",
   "metadata": {},
   "outputs": [],
   "source": []
  },
  {
   "cell_type": "code",
   "execution_count": null,
   "id": "4768412e",
   "metadata": {},
   "outputs": [],
   "source": []
  },
  {
   "cell_type": "code",
   "execution_count": null,
   "id": "c95e459e",
   "metadata": {},
   "outputs": [],
   "source": []
  },
  {
   "cell_type": "code",
   "execution_count": null,
   "id": "54d90f22",
   "metadata": {},
   "outputs": [],
   "source": []
  },
  {
   "cell_type": "code",
   "execution_count": null,
   "id": "bf99c921",
   "metadata": {},
   "outputs": [],
   "source": []
  },
  {
   "cell_type": "code",
   "execution_count": 6,
   "id": "a20bbf0c",
   "metadata": {},
   "outputs": [],
   "source": [
    "from helpers.luis_helper import LuisHelper\n",
    "from config import DefaultConfig\n",
    "from flight_booking_recognizer import FlightBookingRecognizer    # The code to test\n",
    "\n",
    "CONFIG = DefaultConfig()\n",
    "RECOGNIZER = FlightBookingRecognizer(CONFIG)"
   ]
  },
  {
   "cell_type": "code",
   "execution_count": 94,
   "id": "9293060c",
   "metadata": {},
   "outputs": [
    {
     "name": "stdout",
     "output_type": "stream",
     "text": [
      "<coroutine object LuisRecognizer.recognize at 0x7fa620c137c0>\n",
      "'NoneType' object has no attribute 'intents'\n"
     ]
    },
    {
     "data": {
      "text/plain": [
       "(None, None)"
      ]
     },
     "execution_count": 94,
     "metadata": {},
     "output_type": "execute_result"
    }
   ],
   "source": [
    "await LuisHelper.execute_luis_query(RECOGNIZER,TurnContext(activity, activity))"
   ]
  },
  {
   "cell_type": "code",
   "execution_count": 47,
   "id": "93f724b9",
   "metadata": {},
   "outputs": [],
   "source": [
    "from botbuilder.core import TurnContext,ActivityHandler\n",
    "from botbuilder.schema import ActivityTypes,ChannelAccount\n",
    "\n",
    "class ActivityBot(ActivityHandler):\n",
    "        async def on_message_activity(self,turn_context:TurnContext):\n",
    "            await turn_context.send_activity(turn_context.activity.text)\n",
    "        async def on_members_added_activity(self,member_added : ChannelAccount,turn_context:TurnContext):\n",
    "            for member in member_added:\n",
    "                await turn_context.send_activity(member.name) "
   ]
  },
  {
   "cell_type": "code",
   "execution_count": 209,
   "id": "f37edae5",
   "metadata": {},
   "outputs": [
    {
     "name": "stderr",
     "output_type": "stream",
     "text": [
      "/var/folders/pd/d9xkkvws5r5f_x34lthx34ph0000gn/T/ipykernel_10118/2759891786.py:4: RuntimeWarning: coroutine 'FlightBookingRecognizer.recognize' was never awaited\n",
      "  await RECOGNIZER.recognize(TurnContext(activity, ebot)).send_activity\n",
      "RuntimeWarning: Enable tracemalloc to get the object allocation traceback\n"
     ]
    },
    {
     "ename": "AttributeError",
     "evalue": "'coroutine' object has no attribute 'send_activity'",
     "output_type": "error",
     "traceback": [
      "\u001b[0;31m---------------------------------------------------------------------------\u001b[0m",
      "\u001b[0;31mAttributeError\u001b[0m                            Traceback (most recent call last)",
      "Input \u001b[0;32mIn [209]\u001b[0m, in \u001b[0;36m<cell line: 4>\u001b[0;34m()\u001b[0m\n\u001b[1;32m      2\u001b[0m ebot\u001b[38;5;241m.\u001b[39mid \u001b[38;5;241m=\u001b[39m\u001b[38;5;28;01mNone\u001b[39;00m\n\u001b[1;32m      3\u001b[0m ebot\u001b[38;5;241m.\u001b[39mtype \u001b[38;5;241m=\u001b[39m \u001b[38;5;28;01mNone\u001b[39;00m\n\u001b[0;32m----> 4\u001b[0m \u001b[38;5;28;01mawait\u001b[39;00m \u001b[43mRECOGNIZER\u001b[49m\u001b[38;5;241;43m.\u001b[39;49m\u001b[43mrecognize\u001b[49m\u001b[43m(\u001b[49m\u001b[43mTurnContext\u001b[49m\u001b[43m(\u001b[49m\u001b[43mactivity\u001b[49m\u001b[43m,\u001b[49m\u001b[43m \u001b[49m\u001b[43mebot\u001b[49m\u001b[43m)\u001b[49m\u001b[43m)\u001b[49m\u001b[38;5;241;43m.\u001b[39;49m\u001b[43msend_activity\u001b[49m\n",
      "\u001b[0;31mAttributeError\u001b[0m: 'coroutine' object has no attribute 'send_activity'"
     ]
    }
   ],
   "source": [
    "ebot = ActivityBot()\n",
    "ebot.id =None\n",
    "ebot.type = None\n",
    "await RECOGNIZER.recognize(TurnContext(activity, ebot)).send_activity"
   ]
  },
  {
   "cell_type": "code",
   "execution_count": 223,
   "id": "b1da153e",
   "metadata": {},
   "outputs": [
    {
     "ename": "AttributeError",
     "evalue": "'ActivityBot' object has no attribute 'send_activities'",
     "output_type": "error",
     "traceback": [
      "\u001b[0;31m---------------------------------------------------------------------------\u001b[0m",
      "\u001b[0;31mAttributeError\u001b[0m                            Traceback (most recent call last)",
      "Input \u001b[0;32mIn [223]\u001b[0m, in \u001b[0;36m<cell line: 11>\u001b[0;34m()\u001b[0m\n\u001b[1;32m      9\u001b[0m ebot\u001b[38;5;241m.\u001b[39mservice_url \u001b[38;5;241m=\u001b[39m \u001b[38;5;28;01mNone\u001b[39;00m\n\u001b[1;32m     10\u001b[0m ebot\u001b[38;5;241m.\u001b[39mdelivery_mode \u001b[38;5;241m=\u001b[39m \u001b[38;5;28;01mNone\u001b[39;00m\n\u001b[0;32m---> 11\u001b[0m \u001b[38;5;28;01mawait\u001b[39;00m TurnContext(ebot, activity)\u001b[38;5;241m.\u001b[39msend_activity(\u001b[38;5;124m'\u001b[39m\u001b[38;5;124mTest\u001b[39m\u001b[38;5;124m'\u001b[39m)\n",
      "File \u001b[0;32m/Library/Frameworks/Python.framework/Versions/3.8/lib/python3.8/site-packages/botbuilder/core/turn_context.py:174\u001b[0m, in \u001b[0;36mTurnContext.send_activity\u001b[0;34m(self, activity_or_text, speak, input_hint)\u001b[0m\n\u001b[1;32m    167\u001b[0m \u001b[38;5;28;01mif\u001b[39;00m \u001b[38;5;28misinstance\u001b[39m(activity_or_text, \u001b[38;5;28mstr\u001b[39m):\n\u001b[1;32m    168\u001b[0m     activity_or_text \u001b[38;5;241m=\u001b[39m Activity(\n\u001b[1;32m    169\u001b[0m         text\u001b[38;5;241m=\u001b[39mactivity_or_text,\n\u001b[1;32m    170\u001b[0m         input_hint\u001b[38;5;241m=\u001b[39minput_hint \u001b[38;5;129;01mor\u001b[39;00m InputHints\u001b[38;5;241m.\u001b[39maccepting_input,\n\u001b[1;32m    171\u001b[0m         speak\u001b[38;5;241m=\u001b[39mspeak,\n\u001b[1;32m    172\u001b[0m     )\n\u001b[0;32m--> 174\u001b[0m result \u001b[38;5;241m=\u001b[39m \u001b[38;5;28;01mawait\u001b[39;00m \u001b[38;5;28mself\u001b[39m\u001b[38;5;241m.\u001b[39msend_activities([activity_or_text])\n\u001b[1;32m    175\u001b[0m \u001b[38;5;28;01mreturn\u001b[39;00m result[\u001b[38;5;241m0\u001b[39m] \u001b[38;5;28;01mif\u001b[39;00m result \u001b[38;5;28;01melse\u001b[39;00m \u001b[38;5;28;01mNone\u001b[39;00m\n",
      "File \u001b[0;32m/Library/Frameworks/Python.framework/Versions/3.8/lib/python3.8/site-packages/botbuilder/core/turn_context.py:226\u001b[0m, in \u001b[0;36mTurnContext.send_activities\u001b[0;34m(self, activities)\u001b[0m\n\u001b[1;32m    223\u001b[0m         \u001b[38;5;28mself\u001b[39m\u001b[38;5;241m.\u001b[39mresponded \u001b[38;5;241m=\u001b[39m \u001b[38;5;28;01mTrue\u001b[39;00m\n\u001b[1;32m    224\u001b[0m     \u001b[38;5;28;01mreturn\u001b[39;00m responses\n\u001b[0;32m--> 226\u001b[0m \u001b[38;5;28;01mreturn\u001b[39;00m \u001b[38;5;28;01mawait\u001b[39;00m \u001b[38;5;28mself\u001b[39m\u001b[38;5;241m.\u001b[39m_emit(\u001b[38;5;28mself\u001b[39m\u001b[38;5;241m.\u001b[39m_on_send_activities, output, logic())\n",
      "File \u001b[0;32m/Library/Frameworks/Python.framework/Versions/3.8/lib/python3.8/site-packages/botbuilder/core/turn_context.py:304\u001b[0m, in \u001b[0;36mTurnContext._emit\u001b[0;34m(self, plugins, arg, logic)\u001b[0m\n\u001b[1;32m    302\u001b[0m \u001b[38;5;28;01mawait\u001b[39;00m emit_next(\u001b[38;5;241m0\u001b[39m)\n\u001b[1;32m    303\u001b[0m \u001b[38;5;66;03m# logic does not use parentheses because it's a coroutine\u001b[39;00m\n\u001b[0;32m--> 304\u001b[0m \u001b[38;5;28;01mreturn\u001b[39;00m \u001b[38;5;28;01mawait\u001b[39;00m logic\n",
      "File \u001b[0;32m/Library/Frameworks/Python.framework/Versions/3.8/lib/python3.8/site-packages/botbuilder/core/turn_context.py:221\u001b[0m, in \u001b[0;36mTurnContext.send_activities.<locals>.logic\u001b[0;34m()\u001b[0m\n\u001b[1;32m    217\u001b[0m         \u001b[38;5;28mself\u001b[39m\u001b[38;5;241m.\u001b[39mresponded \u001b[38;5;241m=\u001b[39m \u001b[38;5;28;01mTrue\u001b[39;00m\n\u001b[1;32m    219\u001b[0m     \u001b[38;5;28;01mreturn\u001b[39;00m responses\n\u001b[0;32m--> 221\u001b[0m responses \u001b[38;5;241m=\u001b[39m \u001b[38;5;28;01mawait\u001b[39;00m \u001b[38;5;28;43mself\u001b[39;49m\u001b[38;5;241;43m.\u001b[39;49m\u001b[43madapter\u001b[49m\u001b[38;5;241;43m.\u001b[39;49m\u001b[43msend_activities\u001b[49m(\u001b[38;5;28mself\u001b[39m, output)\n\u001b[1;32m    222\u001b[0m \u001b[38;5;28;01mif\u001b[39;00m sent_non_trace_activity:\n\u001b[1;32m    223\u001b[0m     \u001b[38;5;28mself\u001b[39m\u001b[38;5;241m.\u001b[39mresponded \u001b[38;5;241m=\u001b[39m \u001b[38;5;28;01mTrue\u001b[39;00m\n",
      "\u001b[0;31mAttributeError\u001b[0m: 'ActivityBot' object has no attribute 'send_activities'"
     ]
    }
   ],
   "source": [
    "ebot = ActivityBot()\n",
    "ebot.id =None\n",
    "ebot.type = None\n",
    "ebot.from_property = None\n",
    "ebot.recipient = None\n",
    "ebot.conversation = None\n",
    "ebot.channel_id = None\n",
    "ebot.locale = None\n",
    "ebot.service_url = None\n",
    "ebot.delivery_mode = None\n",
    "await TurnContext(ebot, activity).send_activity('Test')"
   ]
  },
  {
   "cell_type": "code",
   "execution_count": 207,
   "id": "a5e236d7",
   "metadata": {},
   "outputs": [],
   "source": [
    "async def test():\n",
    "    await asyncio.sleep(0)\n",
    "    return RECOGNIZER.recognize(TurnContext(activity, activity))"
   ]
  },
  {
   "cell_type": "code",
   "execution_count": 248,
   "id": "8873ec71",
   "metadata": {},
   "outputs": [
    {
     "ename": "AttributeError",
     "evalue": "'AdapterWithErrorHandler' object has no attribute 'id'",
     "output_type": "error",
     "traceback": [
      "\u001b[0;31m---------------------------------------------------------------------------\u001b[0m",
      "\u001b[0;31mAttributeError\u001b[0m                            Traceback (most recent call last)",
      "Input \u001b[0;32mIn [248]\u001b[0m, in \u001b[0;36m<cell line: 1>\u001b[0;34m()\u001b[0m\n\u001b[0;32m----> 1\u001b[0m \u001b[38;5;28;01mawait\u001b[39;00m TurnContext(activity,ADAPTER, )\u001b[38;5;241m.\u001b[39msend_activity(\u001b[38;5;124m'\u001b[39m\u001b[38;5;124mTest\u001b[39m\u001b[38;5;124m'\u001b[39m)\n",
      "File \u001b[0;32m/Library/Frameworks/Python.framework/Versions/3.8/lib/python3.8/site-packages/botbuilder/core/turn_context.py:174\u001b[0m, in \u001b[0;36mTurnContext.send_activity\u001b[0;34m(self, activity_or_text, speak, input_hint)\u001b[0m\n\u001b[1;32m    167\u001b[0m \u001b[38;5;28;01mif\u001b[39;00m \u001b[38;5;28misinstance\u001b[39m(activity_or_text, \u001b[38;5;28mstr\u001b[39m):\n\u001b[1;32m    168\u001b[0m     activity_or_text \u001b[38;5;241m=\u001b[39m Activity(\n\u001b[1;32m    169\u001b[0m         text\u001b[38;5;241m=\u001b[39mactivity_or_text,\n\u001b[1;32m    170\u001b[0m         input_hint\u001b[38;5;241m=\u001b[39minput_hint \u001b[38;5;129;01mor\u001b[39;00m InputHints\u001b[38;5;241m.\u001b[39maccepting_input,\n\u001b[1;32m    171\u001b[0m         speak\u001b[38;5;241m=\u001b[39mspeak,\n\u001b[1;32m    172\u001b[0m     )\n\u001b[0;32m--> 174\u001b[0m result \u001b[38;5;241m=\u001b[39m \u001b[38;5;28;01mawait\u001b[39;00m \u001b[38;5;28mself\u001b[39m\u001b[38;5;241m.\u001b[39msend_activities([activity_or_text])\n\u001b[1;32m    175\u001b[0m \u001b[38;5;28;01mreturn\u001b[39;00m result[\u001b[38;5;241m0\u001b[39m] \u001b[38;5;28;01mif\u001b[39;00m result \u001b[38;5;28;01melse\u001b[39;00m \u001b[38;5;28;01mNone\u001b[39;00m\n",
      "File \u001b[0;32m/Library/Frameworks/Python.framework/Versions/3.8/lib/python3.8/site-packages/botbuilder/core/turn_context.py:181\u001b[0m, in \u001b[0;36mTurnContext.send_activities\u001b[0;34m(self, activities)\u001b[0m\n\u001b[1;32m    177\u001b[0m \u001b[38;5;28;01masync\u001b[39;00m \u001b[38;5;28;01mdef\u001b[39;00m \u001b[38;5;21msend_activities\u001b[39m(\n\u001b[1;32m    178\u001b[0m     \u001b[38;5;28mself\u001b[39m, activities: List[Activity]\n\u001b[1;32m    179\u001b[0m ) \u001b[38;5;241m-\u001b[39m\u001b[38;5;241m>\u001b[39m List[ResourceResponse]:\n\u001b[1;32m    180\u001b[0m     sent_non_trace_activity \u001b[38;5;241m=\u001b[39m \u001b[38;5;28;01mFalse\u001b[39;00m\n\u001b[0;32m--> 181\u001b[0m     ref \u001b[38;5;241m=\u001b[39m \u001b[43mTurnContext\u001b[49m\u001b[38;5;241;43m.\u001b[39;49m\u001b[43mget_conversation_reference\u001b[49m\u001b[43m(\u001b[49m\u001b[38;5;28;43mself\u001b[39;49m\u001b[38;5;241;43m.\u001b[39;49m\u001b[43mactivity\u001b[49m\u001b[43m)\u001b[49m\n\u001b[1;32m    183\u001b[0m     \u001b[38;5;28;01mdef\u001b[39;00m \u001b[38;5;21mactivity_validator\u001b[39m(activity: Activity) \u001b[38;5;241m-\u001b[39m\u001b[38;5;241m>\u001b[39m Activity:\n\u001b[1;32m    184\u001b[0m         \u001b[38;5;28;01mif\u001b[39;00m \u001b[38;5;129;01mnot\u001b[39;00m \u001b[38;5;28mgetattr\u001b[39m(activity, \u001b[38;5;124m\"\u001b[39m\u001b[38;5;124mtype\u001b[39m\u001b[38;5;124m\"\u001b[39m, \u001b[38;5;28;01mNone\u001b[39;00m):\n",
      "File \u001b[0;32m/Library/Frameworks/Python.framework/Versions/3.8/lib/python3.8/site-packages/botbuilder/core/turn_context.py:332\u001b[0m, in \u001b[0;36mTurnContext.get_conversation_reference\u001b[0;34m(activity)\u001b[0m\n\u001b[1;32m    320\u001b[0m \u001b[38;5;129m@staticmethod\u001b[39m\n\u001b[1;32m    321\u001b[0m \u001b[38;5;28;01mdef\u001b[39;00m \u001b[38;5;21mget_conversation_reference\u001b[39m(activity: Activity) \u001b[38;5;241m-\u001b[39m\u001b[38;5;241m>\u001b[39m ConversationReference:\n\u001b[1;32m    322\u001b[0m     \u001b[38;5;124;03m\"\"\"\u001b[39;00m\n\u001b[1;32m    323\u001b[0m \u001b[38;5;124;03m    Returns the conversation reference for an activity. This can be saved as a plain old JSON\u001b[39;00m\n\u001b[1;32m    324\u001b[0m \u001b[38;5;124;03m    object and then later used to message the user proactively.\u001b[39;00m\n\u001b[0;32m   (...)\u001b[0m\n\u001b[1;32m    329\u001b[0m \u001b[38;5;124;03m    :return:\u001b[39;00m\n\u001b[1;32m    330\u001b[0m \u001b[38;5;124;03m    \"\"\"\u001b[39;00m\n\u001b[1;32m    331\u001b[0m     \u001b[38;5;28;01mreturn\u001b[39;00m ConversationReference(\n\u001b[0;32m--> 332\u001b[0m         activity_id\u001b[38;5;241m=\u001b[39m\u001b[43mactivity\u001b[49m\u001b[38;5;241;43m.\u001b[39;49m\u001b[43mid\u001b[49m,\n\u001b[1;32m    333\u001b[0m         user\u001b[38;5;241m=\u001b[39mcopy(activity\u001b[38;5;241m.\u001b[39mfrom_property),\n\u001b[1;32m    334\u001b[0m         bot\u001b[38;5;241m=\u001b[39mcopy(activity\u001b[38;5;241m.\u001b[39mrecipient),\n\u001b[1;32m    335\u001b[0m         conversation\u001b[38;5;241m=\u001b[39mcopy(activity\u001b[38;5;241m.\u001b[39mconversation),\n\u001b[1;32m    336\u001b[0m         channel_id\u001b[38;5;241m=\u001b[39mactivity\u001b[38;5;241m.\u001b[39mchannel_id,\n\u001b[1;32m    337\u001b[0m         locale\u001b[38;5;241m=\u001b[39mactivity\u001b[38;5;241m.\u001b[39mlocale,\n\u001b[1;32m    338\u001b[0m         service_url\u001b[38;5;241m=\u001b[39mactivity\u001b[38;5;241m.\u001b[39mservice_url,\n\u001b[1;32m    339\u001b[0m     )\n",
      "\u001b[0;31mAttributeError\u001b[0m: 'AdapterWithErrorHandler' object has no attribute 'id'"
     ]
    }
   ],
   "source": [
    "await TurnContext(activity,ADAPTER, ).send_activity('Test')"
   ]
  },
  {
   "cell_type": "code",
   "execution_count": 191,
   "id": "e808e3a0",
   "metadata": {},
   "outputs": [
    {
     "ename": "TypeError",
     "evalue": "object TurnContext can't be used in 'await' expression",
     "output_type": "error",
     "traceback": [
      "\u001b[0;31m---------------------------------------------------------------------------\u001b[0m",
      "\u001b[0;31mTypeError\u001b[0m                                 Traceback (most recent call last)",
      "Input \u001b[0;32mIn [191]\u001b[0m, in \u001b[0;36m<cell line: 1>\u001b[0;34m()\u001b[0m\n\u001b[0;32m----> 1\u001b[0m \u001b[38;5;28;01mawait\u001b[39;00m TurnContext(activity, ebot\u001b[38;5;241m.\u001b[39mon_turn)\n",
      "\u001b[0;31mTypeError\u001b[0m: object TurnContext can't be used in 'await' expression"
     ]
    }
   ],
   "source": [
    "await TurnContext(activity, ebot.on_turn)"
   ]
  },
  {
   "cell_type": "code",
   "execution_count": 147,
   "id": "433e306f",
   "metadata": {},
   "outputs": [],
   "source": [
    "body = {'channelData': {'clientActivityID': '16525538160103dtlahliuft',\n",
    "  'clientTimestamp': '2022-05-14T18:43:36.010Z'},\n",
    " 'text': 'Book to Paris from madrid',\n",
    " 'textFormat': 'plain',\n",
    " 'type': 'message',\n",
    " 'channelId': 'emulator',\n",
    " 'from': {'id': '86310e76-e5c9-4b23-9845-1601f3e5950d',\n",
    "  'name': 'User',\n",
    "  'role': 'user'},\n",
    " 'locale': 'en-US',\n",
    " 'localTimestamp': '2022-05-14T20:43:36+02:00',\n",
    " 'localTimezone': 'Europe/Paris',\n",
    " 'timestamp': '2022-05-14T18:43:36.105Z',\n",
    " 'conversation': {'id': 'd512e890-d3aa-11ec-9188-15fe64d6c034|livechat'},\n",
    " 'id': 'c3510190-d3b5-11ec-a525-e588765220e8',\n",
    " 'recipient': {'id': 'beacd2e0-d37e-11ec-9188-15fe64d6c034',\n",
    "  'name': 'Bot',\n",
    "  'role': 'bot'},\n",
    " 'serviceUrl': 'http://localhost:52546'}\n",
    "\n",
    "\n",
    "activity = Activity().deserialize(body)"
   ]
  },
  {
   "cell_type": "code",
   "execution_count": null,
   "id": "72c86071",
   "metadata": {},
   "outputs": [],
   "source": []
  },
  {
   "cell_type": "code",
   "execution_count": 255,
   "id": "f6707882",
   "metadata": {},
   "outputs": [],
   "source": [
    "from botbuilder.core import BotFrameworkAdapter,BotFrameworkAdapterSettings\n",
    "\n",
    "botadaptersettings = BotFrameworkAdapterSettings(\"\",\"\")\n",
    "botadapter = BotFrameworkAdapter(botadaptersettings)\n",
    "\n"
   ]
  },
  {
   "cell_type": "code",
   "execution_count": 269,
   "id": "5ddaa186",
   "metadata": {},
   "outputs": [],
   "source": [
    "from botbuilder.core import TurnContext\n",
    "\n",
    "class EchoBot:\n",
    "    async def on_turn(self,turn_context:TurnContext):\n",
    "        await turn_context.send_activity(turn_context.activity.text)"
   ]
  },
  {
   "cell_type": "code",
   "execution_count": 270,
   "id": "6061cb99",
   "metadata": {},
   "outputs": [],
   "source": [
    "ebot = EchoBot()"
   ]
  },
  {
   "cell_type": "code",
   "execution_count": 271,
   "id": "e5bf6ed8",
   "metadata": {},
   "outputs": [],
   "source": [
    "def turn_call(turn_context):\n",
    "    await ebot.on_turn(turn_context)\n",
    "\n",
    "await botadapter.process_activity(activity,\"\",turn_call)"
   ]
  },
  {
   "cell_type": "code",
   "execution_count": 278,
   "id": "9109428a",
   "metadata": {},
   "outputs": [
    {
     "data": {
      "text/plain": [
       "<bound method EchoBot.on_turn of <__main__.EchoBot object at 0x7fa600ccc4c0>>"
      ]
     },
     "execution_count": 278,
     "metadata": {},
     "output_type": "execute_result"
    }
   ],
   "source": [
    "ebot.on_turn"
   ]
  },
  {
   "cell_type": "code",
   "execution_count": null,
   "id": "dfe9f6c5",
   "metadata": {},
   "outputs": [],
   "source": []
  },
  {
   "cell_type": "code",
   "execution_count": null,
   "id": "c99d577c",
   "metadata": {},
   "outputs": [],
   "source": []
  },
  {
   "cell_type": "code",
   "execution_count": null,
   "id": "272352d5",
   "metadata": {},
   "outputs": [],
   "source": []
  },
  {
   "cell_type": "code",
   "execution_count": null,
   "id": "2dbbfedd",
   "metadata": {},
   "outputs": [],
   "source": []
  },
  {
   "cell_type": "code",
   "execution_count": 281,
   "id": "f763f012",
   "metadata": {},
   "outputs": [
    {
     "data": {
      "text/plain": [
       "<bound method FlightBookingRecognizer.recognize of <flight_booking_recognizer.FlightBookingRecognizer object at 0x7fa6005730a0>>"
      ]
     },
     "execution_count": 281,
     "metadata": {},
     "output_type": "execute_result"
    }
   ],
   "source": [
    "RECOGNIZER.recognize()"
   ]
  },
  {
   "cell_type": "code",
   "execution_count": null,
   "id": "be0e42ac",
   "metadata": {},
   "outputs": [],
   "source": []
  },
  {
   "cell_type": "code",
   "execution_count": null,
   "id": "8bdc28a9",
   "metadata": {},
   "outputs": [],
   "source": []
  },
  {
   "cell_type": "code",
   "execution_count": 64,
   "id": "749f5117",
   "metadata": {},
   "outputs": [],
   "source": [
    "\n",
    "   \n",
    "from botbuilder.core import TurnContext,ActivityHandler\n",
    "from botbuilder.schema import ActivityTypes,ChannelAccount\n",
    "\n",
    "class ActivityBot(ActivityHandler):\n",
    "        async def on_message_activity(self,turn_context:TurnContext):\n",
    "            await turn_context.send_activity(turn_context.activity.text)\n",
    "        async def on_members_added_activity(self,member_added : ChannelAccount,turn_context:TurnContext):\n",
    "            for member in member_added:\n",
    "                await turn_context.send_activity(member.name)   "
   ]
  },
  {
   "cell_type": "code",
   "execution_count": 66,
   "id": "3b159d58",
   "metadata": {},
   "outputs": [],
   "source": [
    "from botbuilder.core import BotFrameworkAdapter,BotFrameworkAdapterSettings\n",
    "import asyncio\n",
    "\n",
    "loop = asyncio.get_event_loop()\n",
    "\n",
    "ebot = ActivityBot()\n",
    "\n",
    "botadaptersettings = BotFrameworkAdapterSettings(\"\",\"\")\n",
    "botadapter = BotFrameworkAdapter(botadaptersettings)"
   ]
  },
  {
   "cell_type": "code",
   "execution_count": 70,
   "id": "ac272380",
   "metadata": {},
   "outputs": [],
   "source": [
    "def turn_call(turn_context):\n",
    "        ebot.on_turn(turn_context)"
   ]
  },
  {
   "cell_type": "code",
   "execution_count": 86,
   "id": "d399dde4",
   "metadata": {},
   "outputs": [
    {
     "ename": "TypeError",
     "evalue": "on_message_activity() missing 1 required positional argument: 'turn_context'",
     "output_type": "error",
     "traceback": [
      "\u001b[0;31m---------------------------------------------------------------------------\u001b[0m",
      "\u001b[0;31mTypeError\u001b[0m                                 Traceback (most recent call last)",
      "Input \u001b[0;32mIn [86]\u001b[0m, in \u001b[0;36m<cell line: 1>\u001b[0;34m()\u001b[0m\n\u001b[0;32m----> 1\u001b[0m \u001b[38;5;28;01mawait\u001b[39;00m \u001b[43mActivityBot\u001b[49m\u001b[43m(\u001b[49m\u001b[43m)\u001b[49m\u001b[38;5;241;43m.\u001b[39;49m\u001b[43mon_message_activity\u001b[49m\u001b[43m(\u001b[49m\u001b[43m)\u001b[49m\n",
      "\u001b[0;31mTypeError\u001b[0m: on_message_activity() missing 1 required positional argument: 'turn_context'"
     ]
    }
   ],
   "source": [
    "await ActivityBot().on_message_activity()"
   ]
  },
  {
   "cell_type": "code",
   "execution_count": 121,
   "id": "2b6530f0",
   "metadata": {},
   "outputs": [
    {
     "data": {
      "text/plain": [
       "<botbuilder.core.turn_context.TurnContext at 0x7fa5f04386d0>"
      ]
     },
     "execution_count": 121,
     "metadata": {},
     "output_type": "execute_result"
    }
   ],
   "source": [
    "TurnContext(activity, Activity)"
   ]
  },
  {
   "cell_type": "code",
   "execution_count": 120,
   "id": "d433438d",
   "metadata": {},
   "outputs": [
    {
     "data": {
      "text/plain": [
       "__main__.ActivityBot"
      ]
     },
     "execution_count": 120,
     "metadata": {},
     "output_type": "execute_result"
    }
   ],
   "source": [
    "ActivityBot"
   ]
  },
  {
   "cell_type": "code",
   "execution_count": null,
   "id": "9ae20cad",
   "metadata": {},
   "outputs": [],
   "source": []
  },
  {
   "cell_type": "code",
   "execution_count": null,
   "id": "1dc2113f",
   "metadata": {},
   "outputs": [],
   "source": []
  },
  {
   "cell_type": "code",
   "execution_count": null,
   "id": "bfad4b8b",
   "metadata": {},
   "outputs": [],
   "source": []
  },
  {
   "cell_type": "code",
   "execution_count": null,
   "id": "dc2eefa4",
   "metadata": {},
   "outputs": [],
   "source": []
  },
  {
   "cell_type": "code",
   "execution_count": null,
   "id": "ac76dae3",
   "metadata": {},
   "outputs": [],
   "source": []
  },
  {
   "cell_type": "code",
   "execution_count": null,
   "id": "5807b263",
   "metadata": {},
   "outputs": [],
   "source": []
  },
  {
   "cell_type": "code",
   "execution_count": null,
   "id": "6a482ce2",
   "metadata": {},
   "outputs": [],
   "source": []
  },
  {
   "cell_type": "code",
   "execution_count": null,
   "id": "f1532af7",
   "metadata": {},
   "outputs": [],
   "source": []
  },
  {
   "cell_type": "code",
   "execution_count": null,
   "id": "338c2df2",
   "metadata": {},
   "outputs": [],
   "source": []
  },
  {
   "cell_type": "code",
   "execution_count": 59,
   "id": "c5c500a7",
   "metadata": {},
   "outputs": [
    {
     "data": {
      "text/plain": [
       "<botbuilder.schema._models_py3.Activity at 0x7fa5f05e16d0>"
      ]
     },
     "execution_count": 59,
     "metadata": {},
     "output_type": "execute_result"
    }
   ],
   "source": [
    "from botbuilder.core import ActivityHandler, MessageFactory, TurnContext\n",
    "from botbuilder.schema import Activity, ActivityTypes\n",
    "A = Activity(\n",
    "            label=\"TurnError\",\n",
    "            name=\"on_turn_error Trace\",\n",
    "            timestamp=None,\n",
    "            type=ActivityTypes.trace,\n",
    "            value=\"eroro\",\n",
    "            value_type=\"https://www.botframework.com/schemas/error\",\n",
    "        )\n",
    "\n",
    "T = TurnContext.send_activity(activity, \"Hello and welcome !\")\n",
    "\n",
    "MessageFactory.text('Test 1')"
   ]
  },
  {
   "cell_type": "code",
   "execution_count": 17,
   "id": "6fdd1c51",
   "metadata": {},
   "outputs": [
    {
     "ename": "TypeError",
     "evalue": "send_activity() missing 1 required positional argument: 'activity_or_text'",
     "output_type": "error",
     "traceback": [
      "\u001b[0;31m---------------------------------------------------------------------------\u001b[0m",
      "\u001b[0;31mTypeError\u001b[0m                                 Traceback (most recent call last)",
      "Input \u001b[0;32mIn [17]\u001b[0m, in \u001b[0;36m<cell line: 1>\u001b[0;34m()\u001b[0m\n\u001b[0;32m----> 1\u001b[0m T \u001b[38;5;241m=\u001b[39m \u001b[43mTurnContext\u001b[49m\u001b[38;5;241;43m.\u001b[39;49m\u001b[43msend_activity\u001b[49m\u001b[43m(\u001b[49m\n\u001b[1;32m      2\u001b[0m \u001b[43m            \u001b[49m\u001b[43mMessageFactory\u001b[49m\u001b[38;5;241;43m.\u001b[39;49m\u001b[43mtext\u001b[49m\u001b[43m(\u001b[49m\u001b[38;5;124;43m'\u001b[39;49m\u001b[38;5;124;43mTest 1\u001b[39;49m\u001b[38;5;124;43m'\u001b[39;49m\u001b[43m)\u001b[49m\n\u001b[1;32m      3\u001b[0m \u001b[43m    \u001b[49m\u001b[43m)\u001b[49m\n",
      "\u001b[0;31mTypeError\u001b[0m: send_activity() missing 1 required positional argument: 'activity_or_text'"
     ]
    }
   ],
   "source": [
    "T = TurnContext.send_activity(\n",
    "            MessageFactory.text('Test 1')\n",
    "    )\n"
   ]
  },
  {
   "cell_type": "code",
   "execution_count": null,
   "id": "24e8aff4",
   "metadata": {},
   "outputs": [],
   "source": [
    "MessageFactory.text('Test 1')"
   ]
  },
  {
   "cell_type": "code",
   "execution_count": null,
   "id": "9a3819d6",
   "metadata": {},
   "outputs": [],
   "source": []
  },
  {
   "cell_type": "code",
   "execution_count": null,
   "id": "b67b50f1",
   "metadata": {},
   "outputs": [],
   "source": []
  },
  {
   "cell_type": "code",
   "execution_count": null,
   "id": "d945ba43",
   "metadata": {},
   "outputs": [],
   "source": []
  },
  {
   "cell_type": "code",
   "execution_count": 21,
   "id": "6c2fe02d",
   "metadata": {},
   "outputs": [],
   "source": [
    "import sys\n",
    "import pathlib\n",
    "import pytest\n",
    "import aiounittest\n",
    "import asyncio\n",
    "\n",
    "#current = pathlib.Path(__file__).parent.parent\n",
    "#libpath = current.joinpath(\"D:\\\\mySample\\\\code\\\\github\\\\VideoTutorial\\\\BotTutorialSample\\\\Python_tutorial\\\\24-CustomPrompt\\\\prompt\")\n",
    "#sys.path.append(str(libpath))\n",
    "\n",
    "from botbuilder.dialogs.prompts import (\n",
    "    AttachmentPrompt, \n",
    "    PromptOptions, \n",
    "    PromptValidatorContext, \n",
    ")\n",
    "\n",
    "from botbuilder.core import (\n",
    "    TurnContext, \n",
    "    ConversationState, \n",
    "    MemoryStorage, \n",
    "    MessageFactory, \n",
    ")\n",
    "from botbuilder.schema import Activity, ActivityTypes, Attachment\n",
    "from botbuilder.dialogs import DialogSet, DialogTurnStatus\n",
    "#from email_prompt import EmailPrompt\n",
    "from botbuilder.core.adapters import TestAdapter\n",
    "\n",
    "class EmailPromptTest(aiounittest.AsyncTestCase):\n",
    "    async def test_email_prompt(self):\n",
    "        async def exec_test(turn_context:TurnContext):\n",
    "            dialog_context = await dialogs.create_context(turn_context)\n",
    "\n",
    "            results = await dialog_context.continue_dialog()\n",
    "            if (results.status == DialogTurnStatus.Empty):\n",
    "                options = PromptOptions(\n",
    "                    prompt = Activity(\n",
    "                        type = ActivityTypes.message, \n",
    "                        text = \"What is your email address?\"\n",
    "                        )\n",
    "                    )\n",
    "                await dialog_context.prompt(\"emailprompt\", options)\n",
    "\n",
    "            elif results.status == DialogTurnStatus.Complete:\n",
    "                reply = results.result\n",
    "                await turn_context.send_activity(reply)\n",
    "\n",
    "            await conv_state.save_changes(turn_context)\n",
    "\n",
    "        adapter = TestAdapter(exec_test)\n",
    "\n",
    "        conv_state = ConversationState(MemoryStorage())\n",
    "\n",
    "        dialogs_state = conv_state.create_property(\"dialog-state\")\n",
    "        dialogs = DialogSet(dialogs_state)\n",
    "        dialogs.add(EmailPrompt(\"emailprompt\"))\n",
    "\n",
    "        step1 = await adapter.test('Hello', 'What is your email address?')\n",
    "        step2 = await step1.send('My email id is r.vinoth@live.com')\n",
    "        await step2.assert_reply(\"r.vinoth@live.com\")"
   ]
  },
  {
   "cell_type": "code",
   "execution_count": 23,
   "id": "3ff8fb14",
   "metadata": {},
   "outputs": [
    {
     "data": {
      "text/plain": [
       "<botbuilder.core.adapters.test_adapter.TestAdapter at 0x7fa620d93190>"
      ]
     },
     "execution_count": 23,
     "metadata": {},
     "output_type": "execute_result"
    }
   ],
   "source": []
  },
  {
   "cell_type": "code",
   "execution_count": 37,
   "id": "95fc303e",
   "metadata": {},
   "outputs": [
    {
     "data": {
      "text/plain": [
       "<botbuilder.dialogs.dialog_set.DialogSet at 0x7fa5f0661370>"
      ]
     },
     "execution_count": 37,
     "metadata": {},
     "output_type": "execute_result"
    }
   ],
   "source": [
    "async def exec_test(turn_context:TurnContext):\n",
    "    dialog_context = await dialogs.create_context(turn_context)\n",
    "\n",
    "    \n",
    "TestAdapter(exec_test)\n",
    "\n",
    "conv_state = ConversationState(MemoryStorage())\n",
    "\n",
    "dialogs_state = conv_state.create_property(\"dialog-state\")\n",
    "dialogs = DialogSet(dialogs_state)\n",
    "\n",
    "dialogs"
   ]
  },
  {
   "cell_type": "code",
   "execution_count": null,
   "id": "8fd170bf",
   "metadata": {},
   "outputs": [],
   "source": [
    "b@"
   ]
  },
  {
   "cell_type": "code",
   "execution_count": null,
   "id": "b6463973",
   "metadata": {},
   "outputs": [],
   "source": []
  },
  {
   "cell_type": "code",
   "execution_count": null,
   "id": "c0b3f4b4",
   "metadata": {},
   "outputs": [],
   "source": []
  },
  {
   "cell_type": "code",
   "execution_count": null,
   "id": "a1f0806d",
   "metadata": {},
   "outputs": [],
   "source": []
  },
  {
   "cell_type": "code",
   "execution_count": null,
   "id": "9d4b23c2",
   "metadata": {},
   "outputs": [],
   "source": []
  },
  {
   "cell_type": "code",
   "execution_count": null,
   "id": "ffd45d1b",
   "metadata": {},
   "outputs": [],
   "source": []
  },
  {
   "cell_type": "code",
   "execution_count": null,
   "id": "548a4d83",
   "metadata": {},
   "outputs": [],
   "source": []
  },
  {
   "cell_type": "code",
   "execution_count": null,
   "id": "130034e5",
   "metadata": {},
   "outputs": [],
   "source": []
  },
  {
   "cell_type": "code",
   "execution_count": null,
   "id": "6f3f2f44",
   "metadata": {},
   "outputs": [],
   "source": []
  },
  {
   "cell_type": "code",
   "execution_count": null,
   "id": "bed91a8d",
   "metadata": {},
   "outputs": [],
   "source": []
  },
  {
   "cell_type": "code",
   "execution_count": null,
   "id": "3a2cb040",
   "metadata": {},
   "outputs": [],
   "source": []
  },
  {
   "cell_type": "code",
   "execution_count": null,
   "id": "df515008",
   "metadata": {},
   "outputs": [],
   "source": []
  },
  {
   "cell_type": "code",
   "execution_count": null,
   "id": "ccf32ad4",
   "metadata": {},
   "outputs": [],
   "source": []
  },
  {
   "cell_type": "code",
   "execution_count": null,
   "id": "31a6b2c3",
   "metadata": {},
   "outputs": [],
   "source": []
  },
  {
   "cell_type": "code",
   "execution_count": null,
   "id": "1d49c35c",
   "metadata": {},
   "outputs": [],
   "source": []
  },
  {
   "cell_type": "code",
   "execution_count": null,
   "id": "2701204d",
   "metadata": {},
   "outputs": [],
   "source": []
  },
  {
   "cell_type": "code",
   "execution_count": null,
   "id": "fafdf7f2",
   "metadata": {},
   "outputs": [],
   "source": []
  },
  {
   "cell_type": "code",
   "execution_count": null,
   "id": "e4668c5b",
   "metadata": {},
   "outputs": [],
   "source": []
  },
  {
   "cell_type": "code",
   "execution_count": null,
   "id": "474f3600",
   "metadata": {},
   "outputs": [],
   "source": []
  },
  {
   "cell_type": "code",
   "execution_count": null,
   "id": "8e998ad1",
   "metadata": {},
   "outputs": [],
   "source": []
  },
  {
   "cell_type": "code",
   "execution_count": 282,
   "id": "a39ad870",
   "metadata": {},
   "outputs": [],
   "source": [
    "class NumberPromptTest(aiounittest.AsyncTestCase):\n",
    "    async def test_number_prompt(self):\n",
    "        async def exec_test(turn_context:TurnContext):\n",
    "            dialog_context = await dialogs.create_context(turn_context)\n",
    "\n",
    "            results = await dialog_context.continue_dialog()\n",
    "            if (results.status == DialogTurnStatus.Empty):\n",
    "                options = PromptOptions(\n",
    "                    prompt=MessageFactory.text(\"How many adults will be present?\")\n",
    "                )\n",
    "                await dialog_context.prompt(NumberPrompt.__name__, options)\n",
    "\n",
    "            elif results.status == DialogTurnStatus.Complete:\n",
    "                reply = results.result\n",
    "                await turn_context.send_activity(str(reply))\n",
    "\n",
    "            await conv_state.save_changes(turn_context)\n",
    "\n",
    "        adapter = TestAdapter(exec_test)\n",
    "\n",
    "        conv_state = ConversationState(MemoryStorage())\n",
    "\n",
    "        dialogs_state = conv_state.create_property(\"dialog-state\")\n",
    "        dialogs = DialogSet(dialogs_state)\n",
    "        \n",
    "        dialogs.add(NumberPrompt(NumberPrompt.__name__))\n",
    "\n",
    "        step1 = await adapter.test('Hello', 'How many adults will be present?')\n",
    "        step2 = await step1.send('Just 2 adults.')\n",
    "        await step2.assert_reply(\"2\")"
   ]
  },
  {
   "cell_type": "code",
   "execution_count": 283,
   "id": "db5bce5b",
   "metadata": {},
   "outputs": [
    {
     "data": {
      "text/plain": [
       "<__main__.NumberPromptTest testMethod=runTest>"
      ]
     },
     "execution_count": 283,
     "metadata": {},
     "output_type": "execute_result"
    }
   ],
   "source": [
    "NumberPromptTest()"
   ]
  },
  {
   "cell_type": "code",
   "execution_count": null,
   "id": "51953491",
   "metadata": {},
   "outputs": [],
   "source": []
  },
  {
   "cell_type": "code",
   "execution_count": null,
   "id": "29131698",
   "metadata": {},
   "outputs": [],
   "source": []
  },
  {
   "cell_type": "code",
   "execution_count": null,
   "id": "d5897c0e",
   "metadata": {},
   "outputs": [],
   "source": []
  },
  {
   "cell_type": "code",
   "execution_count": null,
   "id": "bb15d013",
   "metadata": {},
   "outputs": [],
   "source": []
  },
  {
   "cell_type": "code",
   "execution_count": null,
   "id": "ca01041d",
   "metadata": {},
   "outputs": [],
   "source": []
  },
  {
   "cell_type": "code",
   "execution_count": null,
   "id": "5b8cbd41",
   "metadata": {},
   "outputs": [],
   "source": []
  },
  {
   "cell_type": "code",
   "execution_count": null,
   "id": "bb86692d",
   "metadata": {},
   "outputs": [],
   "source": []
  },
  {
   "cell_type": "code",
   "execution_count": null,
   "id": "a8b7bee9",
   "metadata": {},
   "outputs": [],
   "source": []
  },
  {
   "cell_type": "code",
   "execution_count": null,
   "id": "9ac5d5db",
   "metadata": {},
   "outputs": [],
   "source": []
  },
  {
   "cell_type": "code",
   "execution_count": null,
   "id": "4fd72b80",
   "metadata": {},
   "outputs": [],
   "source": []
  },
  {
   "cell_type": "code",
   "execution_count": null,
   "id": "ba57ed97",
   "metadata": {},
   "outputs": [],
   "source": []
  },
  {
   "cell_type": "code",
   "execution_count": null,
   "id": "fc01dec2",
   "metadata": {},
   "outputs": [],
   "source": []
  },
  {
   "cell_type": "code",
   "execution_count": null,
   "id": "0e74c180",
   "metadata": {},
   "outputs": [],
   "source": []
  },
  {
   "cell_type": "code",
   "execution_count": null,
   "id": "ff1de7c7",
   "metadata": {},
   "outputs": [],
   "source": []
  },
  {
   "cell_type": "code",
   "execution_count": null,
   "id": "d65ca761",
   "metadata": {},
   "outputs": [],
   "source": []
  },
  {
   "cell_type": "code",
   "execution_count": null,
   "id": "d9e78c08",
   "metadata": {},
   "outputs": [],
   "source": []
  }
 ],
 "metadata": {
  "interpreter": {
   "hash": "aee8b7b246df8f9039afb4144a1f6fd8d2ca17a180786b69acc140d282b71a49"
  },
  "kernelspec": {
   "display_name": "Python 3 (ipykernel)",
   "language": "python",
   "name": "python3"
  },
  "language_info": {
   "codemirror_mode": {
    "name": "ipython",
    "version": 3
   },
   "file_extension": ".py",
   "mimetype": "text/x-python",
   "name": "python",
   "nbconvert_exporter": "python",
   "pygments_lexer": "ipython3",
   "version": "3.8.2"
  }
 },
 "nbformat": 4,
 "nbformat_minor": 5
}
