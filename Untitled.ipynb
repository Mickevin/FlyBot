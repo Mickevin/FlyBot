{
 "cells": [
  {
   "cell_type": "code",
   "execution_count": 1,
   "id": "6be41f38",
   "metadata": {},
   "outputs": [],
   "source": [
    "from booking_details import BookingDetails"
   ]
  },
  {
   "cell_type": "code",
   "execution_count": 3,
   "id": "f8ee1c15",
   "metadata": {},
   "outputs": [],
   "source": [
    "b = BookingDetails()"
   ]
  },
  {
   "cell_type": "code",
   "execution_count": null,
   "id": "0680dcef",
   "metadata": {},
   "outputs": [],
   "source": []
  },
  {
   "cell_type": "code",
   "execution_count": 5,
   "id": "b684e468",
   "metadata": {},
   "outputs": [
    {
     "data": {
      "text/plain": [
       "7"
      ]
     },
     "execution_count": 5,
     "metadata": {},
     "output_type": "execute_result"
    }
   ],
   "source": [
    "b.budget"
   ]
  },
  {
   "cell_type": "code",
   "execution_count": 17,
   "id": "b152d3bf",
   "metadata": {},
   "outputs": [],
   "source": [
    "from enum import Enum\n",
    "\n",
    "class Intent(Enum):\n",
    "    BOOK_FLIGHT = \"FlyMe.Booking\"\n",
    "    CANCEL = \"Cancel\"\n",
    "    GET_WEATHER = \"GetWeather\"\n",
    "    NONE_INTENT = \"NoneIntent\""
   ]
  },
  {
   "cell_type": "code",
   "execution_count": 18,
   "id": "dde480ab",
   "metadata": {},
   "outputs": [
    {
     "data": {
      "text/plain": [
       "'FlyMe.Booking'"
      ]
     },
     "execution_count": 18,
     "metadata": {},
     "output_type": "execute_result"
    }
   ],
   "source": [
    "Intent.BOOK_FLIGHT.value"
   ]
  },
  {
   "cell_type": "code",
   "execution_count": 19,
   "id": "2d95d295",
   "metadata": {},
   "outputs": [],
   "source": [
    "from Luis_bot import My_bot\n",
    "\n",
    "t = \"\"\"I'd like to book a trip to Atlantis from \n",
    "Caprica on Saturday, August 13, 2016 for 8 adults. I have a tight budget of 1700.\"\"\"\n",
    "\n",
    "\n",
    "intent, entite = My_bot.prediction(My_bot(), t)"
   ]
  },
  {
   "cell_type": "code",
   "execution_count": 20,
   "id": "20277403",
   "metadata": {},
   "outputs": [
    {
     "data": {
      "text/plain": [
       "'FlyMe.Booking'"
      ]
     },
     "execution_count": 20,
     "metadata": {},
     "output_type": "execute_result"
    }
   ],
   "source": [
    "list(intent)[0]"
   ]
  },
  {
   "cell_type": "code",
   "execution_count": 48,
   "id": "9df6dc46",
   "metadata": {},
   "outputs": [],
   "source": [
    "def predict_to_book_details(luis_recognizer : My_bot, text: str):\n",
    "    result = None\n",
    "    intent = None\n",
    "\n",
    "    \n",
    "    intent, entite = luis_recognizer.prediction(text)\n",
    "    if Intent.BOOK_FLIGHT.value == list(intent)[0]:\n",
    "        \n",
    "        result = BookingDetails()\n",
    "        for key in entite.keys():\n",
    "            if key == 'or_city':\n",
    "                result.origin = entite[key]\n",
    "            elif key == 'dst_city':\n",
    "                result.destination =entite[key]\n",
    "            elif key == 'str_date':\n",
    "                result.start_date =entite[key]\n",
    "            elif key == 'end_date':\n",
    "                result.end_date = entite[key]\n",
    "            elif key == 'budget':\n",
    "                result.budget = entite[key]\n",
    "    return intent, result\n",
    "\n"
   ]
  },
  {
   "cell_type": "code",
   "execution_count": 49,
   "id": "ffae673f",
   "metadata": {},
   "outputs": [],
   "source": [
    "intent, result = predict_to_book_details(My_bot(),t)"
   ]
  },
  {
   "cell_type": "code",
   "execution_count": 50,
   "id": "352bb711",
   "metadata": {},
   "outputs": [
    {
     "data": {
      "text/plain": [
       "'1700.'"
      ]
     },
     "execution_count": 50,
     "metadata": {},
     "output_type": "execute_result"
    }
   ],
   "source": [
    "result.budget"
   ]
  },
  {
   "cell_type": "code",
   "execution_count": 16,
   "id": "b6d11119",
   "metadata": {},
   "outputs": [
    {
     "data": {
      "text/plain": [
       "{'or_city': False,\n",
       " 'dst_city': False,\n",
       " 'str_date': False,\n",
       " 'end_date': False,\n",
       " 'budget': False}"
      ]
     },
     "execution_count": 16,
     "metadata": {},
     "output_type": "execute_result"
    }
   ],
   "source": [
    "My_bot().data"
   ]
  },
  {
   "cell_type": "code",
   "execution_count": 1,
   "id": "90c4aab8",
   "metadata": {},
   "outputs": [
    {
     "ename": "SyntaxError",
     "evalue": "unexpected EOF while parsing (2106377748.py, line 28)",
     "output_type": "error",
     "traceback": [
      "\u001b[0;36m  Input \u001b[0;32mIn [1]\u001b[0;36m\u001b[0m\n\u001b[0;31m    \u001b[0m\n\u001b[0m    ^\u001b[0m\n\u001b[0;31mSyntaxError\u001b[0m\u001b[0;31m:\u001b[0m unexpected EOF while parsing\n"
     ]
    }
   ],
   "source": [
    "class BookingDetails:\n",
    "    def __init__(\n",
    "        self,\n",
    "        destination: str = None,\n",
    "        origin: str = None,\n",
    "        travel_date: str = None,\n",
    "        unsupported_airports=None,\n",
    "        start_date = None,\n",
    "        end_date = None,\n",
    "        budget = None\n",
    "    ):\n",
    "        if unsupported_airports is None:\n",
    "            unsupported_airports = []\n",
    "        self.destination = destination\n",
    "        self.origin = origin\n",
    "        self.travel_date = travel_date\n",
    "        self.unsupported_airports = unsupported_airports\n",
    "        self.start_date = start_date\n",
    "        self.end_date = end_date\n",
    "        self.budget = budget\n",
    "        self.entities = {'or_city': self.origin,\n",
    "                    'dst_city': self.destination,\n",
    "                    'str_date': self.start_date,\n",
    "                    'end_date': self.end_date,\n",
    "                    'budget': self.budget}\n",
    "        \n",
    "    def set_(var):\n",
    "        "
   ]
  },
  {
   "cell_type": "code",
   "execution_count": null,
   "id": "181e0ba8",
   "metadata": {},
   "outputs": [],
   "source": []
  },
  {
   "cell_type": "code",
   "execution_count": null,
   "id": "8c620c80",
   "metadata": {},
   "outputs": [],
   "source": []
  },
  {
   "cell_type": "code",
   "execution_count": null,
   "id": "950d332f",
   "metadata": {},
   "outputs": [],
   "source": []
  },
  {
   "cell_type": "code",
   "execution_count": null,
   "id": "271ab258",
   "metadata": {},
   "outputs": [],
   "source": []
  },
  {
   "cell_type": "code",
   "execution_count": null,
   "id": "00cc2f66",
   "metadata": {},
   "outputs": [],
   "source": []
  },
  {
   "cell_type": "code",
   "execution_count": null,
   "id": "b8a76c50",
   "metadata": {},
   "outputs": [],
   "source": []
  },
  {
   "cell_type": "code",
   "execution_count": null,
   "id": "de09c1f5",
   "metadata": {},
   "outputs": [],
   "source": []
  },
  {
   "cell_type": "code",
   "execution_count": null,
   "id": "9bd4cd63",
   "metadata": {},
   "outputs": [],
   "source": []
  },
  {
   "cell_type": "code",
   "execution_count": 53,
   "id": "a60dfcc8",
   "metadata": {},
   "outputs": [
    {
     "data": {
      "text/plain": [
       "['atlantis']"
      ]
     },
     "execution_count": 53,
     "metadata": {},
     "output_type": "execute_result"
    }
   ],
   "source": [
    "a = {'$instance': {'budget': [{'startIndex': 117,\n",
    "    'endIndex': 122,\n",
    "    'text': '1700 .',\n",
    "    'type': 'budget',\n",
    "    'score': 0.9381831}],\n",
    "  'dst_city': [{'startIndex': 27,\n",
    "    'endIndex': 35,\n",
    "    'text': 'atlantis',\n",
    "    'type': 'dst_city',\n",
    "    'score': 0.99730843}],\n",
    "  'or_city': [{'startIndex': 41,\n",
    "    'endIndex': 48,\n",
    "    'text': 'caprica',\n",
    "    'type': 'or_city',\n",
    "    'score': 0.9928083}]},\n",
    " 'budget': ['1700 .'],\n",
    " 'dst_city': ['atlantis'],\n",
    " 'or_city': ['caprica']}\n",
    "\n",
    "a.get(\"dst_city\", {})"
   ]
  },
  {
   "cell_type": "code",
   "execution_count": 56,
   "id": "cd46444c",
   "metadata": {},
   "outputs": [
    {
     "data": {
      "text/plain": [
       "'$instance'"
      ]
     },
     "execution_count": 56,
     "metadata": {},
     "output_type": "execute_result"
    }
   ],
   "source": [
    "a.get('t', \"$instance\")"
   ]
  },
  {
   "cell_type": "code",
   "execution_count": null,
   "id": "be76fdb7",
   "metadata": {},
   "outputs": [],
   "source": []
  },
  {
   "cell_type": "code",
   "execution_count": 43,
   "id": "b4d63245",
   "metadata": {},
   "outputs": [],
   "source": [
    "to_entities = a.get(\"$instance\", {}).get(\n",
    "                    'or_city', \n",
    "                )"
   ]
  },
  {
   "cell_type": "code",
   "execution_count": 62,
   "id": "e64a2d65",
   "metadata": {},
   "outputs": [
    {
     "data": {
      "text/plain": [
       "{'startIndex': 41,\n",
       " 'endIndex': 48,\n",
       " 'text': 'caprica',\n",
       " 'type': 'or_city',\n",
       " 'score': 0.9928083}"
      ]
     },
     "execution_count": 62,
     "metadata": {},
     "output_type": "execute_result"
    }
   ],
   "source": [
    "to_entities[0]"
   ]
  },
  {
   "cell_type": "code",
   "execution_count": 50,
   "id": "39777d84",
   "metadata": {},
   "outputs": [
    {
     "ename": "TypeError",
     "evalue": "string indices must be integers",
     "output_type": "error",
     "traceback": [
      "\u001b[0;31m---------------------------------------------------------------------------\u001b[0m",
      "\u001b[0;31mTypeError\u001b[0m                                 Traceback (most recent call last)",
      "Input \u001b[0;32mIn [50]\u001b[0m, in \u001b[0;36m<cell line: 1>\u001b[0;34m()\u001b[0m\n\u001b[1;32m      1\u001b[0m \u001b[38;5;28;01mif\u001b[39;00m \u001b[38;5;28mlen\u001b[39m(to_entities) \u001b[38;5;241m>\u001b[39m \u001b[38;5;241m0\u001b[39m:\n\u001b[0;32m----> 2\u001b[0m                 \u001b[38;5;28;01mif\u001b[39;00m \u001b[43ma\u001b[49m\u001b[38;5;241;43m.\u001b[39;49m\u001b[43mget\u001b[49m\u001b[43m(\u001b[49m\u001b[38;5;124;43m\"\u001b[39;49m\u001b[38;5;124;43mor_city\u001b[39;49m\u001b[38;5;124;43m\"\u001b[39;49m\u001b[43m,\u001b[49m\u001b[43m \u001b[49m\u001b[43m[\u001b[49m\u001b[43m{\u001b[49m\u001b[38;5;124;43m\"\u001b[39;49m\u001b[38;5;124;43m$instance\u001b[39;49m\u001b[38;5;124;43m\"\u001b[39;49m\u001b[43m:\u001b[49m\u001b[43m \u001b[49m\u001b[43m{\u001b[49m\u001b[43m}\u001b[49m\u001b[43m}\u001b[49m\u001b[43m]\u001b[49m\u001b[43m)\u001b[49m\u001b[43m[\u001b[49m\u001b[38;5;241;43m0\u001b[39;49m\u001b[43m]\u001b[49m\u001b[43m[\u001b[49m\n\u001b[1;32m      3\u001b[0m \u001b[43m                    \u001b[49m\u001b[38;5;124;43m\"\u001b[39;49m\u001b[38;5;124;43m$instance\u001b[39;49m\u001b[38;5;124;43m\"\u001b[39;49m\n\u001b[1;32m      4\u001b[0m \u001b[43m                \u001b[49m\u001b[43m]\u001b[49m:\n\u001b[1;32m      5\u001b[0m                     \u001b[38;5;28mprint\u001b[39m(\u001b[38;5;28;01mTrue\u001b[39;00m)\n",
      "\u001b[0;31mTypeError\u001b[0m: string indices must be integers"
     ]
    }
   ],
   "source": [
    "if len(to_entities) > 0:\n",
    "                if a.get(\"or_city\", [{\"$instance\": {}}])[0][\n",
    "                    \"$instance\"\n",
    "                ]:\n",
    "                    print(True)"
   ]
  },
  {
   "cell_type": "code",
   "execution_count": 61,
   "id": "ea3285c9",
   "metadata": {},
   "outputs": [
    {
     "name": "stdout",
     "output_type": "stream",
     "text": [
      "True\n"
     ]
    }
   ],
   "source": [
    "if a.get(\"or_city\")[0]:\n",
    "    print(True)"
   ]
  },
  {
   "cell_type": "code",
   "execution_count": 67,
   "id": "66f81545",
   "metadata": {},
   "outputs": [],
   "source": [
    "def test(a:bool):\n",
    "    print(a)"
   ]
  },
  {
   "cell_type": "code",
   "execution_count": 69,
   "id": "7d1601d7",
   "metadata": {},
   "outputs": [
    {
     "name": "stdout",
     "output_type": "stream",
     "text": [
      "1\n"
     ]
    }
   ],
   "source": [
    "test(1)"
   ]
  },
  {
   "cell_type": "code",
   "execution_count": null,
   "id": "b36bf745",
   "metadata": {},
   "outputs": [],
   "source": []
  },
  {
   "cell_type": "code",
   "execution_count": null,
   "id": "f5c50430",
   "metadata": {},
   "outputs": [],
   "source": []
  },
  {
   "cell_type": "code",
   "execution_count": null,
   "id": "2df841bc",
   "metadata": {},
   "outputs": [],
   "source": []
  }
 ],
 "metadata": {
  "interpreter": {
   "hash": "aee8b7b246df8f9039afb4144a1f6fd8d2ca17a180786b69acc140d282b71a49"
  },
  "kernelspec": {
   "display_name": "Python 3 (ipykernel)",
   "language": "python",
   "name": "python3"
  },
  "language_info": {
   "codemirror_mode": {
    "name": "ipython",
    "version": 3
   },
   "file_extension": ".py",
   "mimetype": "text/x-python",
   "name": "python",
   "nbconvert_exporter": "python",
   "pygments_lexer": "ipython3",
   "version": "3.8.2"
  }
 },
 "nbformat": 4,
 "nbformat_minor": 5
}
